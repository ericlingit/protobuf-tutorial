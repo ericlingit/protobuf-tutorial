{
 "cells": [
  {
   "cell_type": "markdown",
   "metadata": {},
   "source": [
    "https://developers.google.com/protocol-buffers/docs/pythontutorial\n",
    "\n",
    "create an address book with a contact's name, id, email, and phone number."
   ]
  },
  {
   "cell_type": "markdown",
   "metadata": {},
   "source": [
    "1. define protocol format by writing the following to a `.proto` file:"
   ]
  },
  {
   "cell_type": "markdown",
   "metadata": {},
   "source": [
    "```proto\n",
    "syntax = \"proto2\";\n",
    "\n",
    "package tutorial;\n",
    "\n",
    "message Person {\n",
    "  required string name = 1;\n",
    "  required int32 id = 2;\n",
    "  optional string email = 3;\n",
    "  \n",
    "  enum PhoneType {\n",
    "    MOBILE = 0;\n",
    "    HOME = 1;\n",
    "    WORK = 2;\n",
    "  }\n",
    "  \n",
    "  message PhoneNumber {\n",
    "    required string number = 1;\n",
    "    optional PhoneType type = 2 [default = HOME];\n",
    "  }\n",
    "  \n",
    "  repeated PhoneNumber phones = 4;\n",
    "}\n",
    "\n",
    "message AddressBook {\n",
    "  repeated Person people = 1;\n",
    "}\n",
    "```"
   ]
  },
  {
   "cell_type": "markdown",
   "metadata": {},
   "source": [
    "Explanation:\n",
    "\n",
    "- `package` prevents name space conflict. no effect on python, but should still be declared in case the file gets used in other languages\n",
    "- a `message` is a collection of typed data\n",
    "- an `enum` is a predefined list of values\n",
    "- `= 1`, `= 2` are field IDs. they're used to identify your fields in the message binary format in order to mark which field is associated with a value. This means that renaming a field isn't a breaking change (in terms of wire format) and the names themselves don't have to be serialized.\n",
    "- each field must have these rules: `required`, `optional`, `repeated`\n",
    "- `required` fields must be set. otherwise exceptions will occur\n",
    "- `optional` fields can remain unset. if unset, default values are used: 0 for int; '' for string; bool for boolean.\n",
    "- `repeated` fields can be repeated any number of times (include 0). the order is preserved.\n",
    "- note: **`require` is forever**! You cannot change protocol fields marked as `required` to `optional`, and expect the compile protocol buffers to interoperate. This is why these keywords are removed in protobuf v3.\n",
    "\n",
    "Note on protobuff v3:\n",
    "\n",
    "- `required` and `optional` are deprecated"
   ]
  },
  {
   "cell_type": "markdown",
   "metadata": {},
   "source": [
    "2. Compiling the `.proto` file"
   ]
  },
  {
   "cell_type": "code",
   "execution_count": 7,
   "metadata": {
    "ExecuteTime": {
     "end_time": "2019-12-27T09:44:08.425044Z",
     "start_time": "2019-12-27T09:44:08.311594Z"
    }
   },
   "outputs": [],
   "source": [
    "# !protoc ./my_protobuf.proto --python_out='.'"
   ]
  },
  {
   "cell_type": "code",
   "execution_count": 11,
   "metadata": {
    "ExecuteTime": {
     "end_time": "2019-12-27T09:44:46.463291Z",
     "start_time": "2019-12-27T09:44:46.349976Z"
    },
    "scrolled": true
   },
   "outputs": [
    {
     "name": "stdout",
     "output_type": "stream",
     "text": [
      "my_protobuf.proto   protobuf-3.11.2\t      protoc-3.11.2-binary\r\n",
      "my_protobuf_pb2.py  protobuff-tutorial.ipynb\r\n"
     ]
    }
   ],
   "source": [
    "# !ls"
   ]
  },
  {
   "cell_type": "markdown",
   "metadata": {},
   "source": [
    "Now we have an extra file created by the protobuf compiler: `my_protobuf_pb2.py`\n",
    "\n",
    "Take a moment to open and read the file in a text editor. It's ok if you don't understand most of the code in it. Note how the structure resembles a dict.\n",
    "\n",
    "When done, come back and run the code below."
   ]
  },
  {
   "cell_type": "markdown",
   "metadata": {},
   "source": [
    "3. Import the `.py` file into python. Protobuf binary files can only be created or read using this script:"
   ]
  },
  {
   "cell_type": "markdown",
   "metadata": {},
   "source": [
    "### The Protocol Buffer API"
   ]
  },
  {
   "cell_type": "code",
   "execution_count": 1,
   "metadata": {
    "ExecuteTime": {
     "end_time": "2019-12-30T02:45:27.434874Z",
     "start_time": "2019-12-30T02:45:27.338217Z"
    }
   },
   "outputs": [],
   "source": [
    "import my_protobuf_pb2"
   ]
  },
  {
   "cell_type": "code",
   "execution_count": 2,
   "metadata": {
    "ExecuteTime": {
     "end_time": "2019-12-30T02:45:27.506189Z",
     "start_time": "2019-12-30T02:45:27.497979Z"
    },
    "scrolled": true
   },
   "outputs": [
    {
     "data": {
      "text/plain": [
       "['AddressBook',\n",
       " 'DESCRIPTOR',\n",
       " 'Person',\n",
       " '_ADDRESSBOOK',\n",
       " '_PERSON',\n",
       " '_PERSON_PHONENUMBER',\n",
       " '_PERSON_PHONETYPE',\n",
       " '__builtins__',\n",
       " '__cached__',\n",
       " '__doc__',\n",
       " '__file__',\n",
       " '__loader__',\n",
       " '__name__',\n",
       " '__package__',\n",
       " '__spec__',\n",
       " '_descriptor',\n",
       " '_message',\n",
       " '_reflection',\n",
       " '_sym_db',\n",
       " '_symbol_database']"
      ]
     },
     "execution_count": 2,
     "metadata": {},
     "output_type": "execute_result"
    }
   ],
   "source": [
    "dir(my_protobuf_pb2)"
   ]
  },
  {
   "cell_type": "markdown",
   "metadata": {},
   "source": [
    "#### Create a `Person` message (object)"
   ]
  },
  {
   "cell_type": "code",
   "execution_count": 3,
   "metadata": {
    "ExecuteTime": {
     "end_time": "2019-12-30T02:45:28.684466Z",
     "start_time": "2019-12-30T02:45:28.681765Z"
    }
   },
   "outputs": [],
   "source": [
    "person = my_protobuf_pb2.Person()"
   ]
  },
  {
   "cell_type": "code",
   "execution_count": 4,
   "metadata": {
    "ExecuteTime": {
     "end_time": "2019-12-30T02:45:28.882097Z",
     "start_time": "2019-12-30T02:45:28.878342Z"
    }
   },
   "outputs": [
    {
     "data": {
      "text/plain": [
       "my_protobuf_pb2.Person"
      ]
     },
     "execution_count": 4,
     "metadata": {},
     "output_type": "execute_result"
    }
   ],
   "source": [
    "type(person)"
   ]
  },
  {
   "cell_type": "code",
   "execution_count": 5,
   "metadata": {
    "ExecuteTime": {
     "end_time": "2019-12-30T02:45:29.021750Z",
     "start_time": "2019-12-30T02:45:29.017575Z"
    },
    "scrolled": true
   },
   "outputs": [
    {
     "data": {
      "text/plain": [
       "['ByteSize',\n",
       " 'Clear',\n",
       " 'ClearExtension',\n",
       " 'ClearField',\n",
       " 'CopyFrom',\n",
       " 'DESCRIPTOR',\n",
       " 'DiscardUnknownFields',\n",
       " 'Extensions',\n",
       " 'FindInitializationErrors',\n",
       " 'FromString',\n",
       " 'HOME',\n",
       " 'HasExtension',\n",
       " 'HasField',\n",
       " 'IsInitialized',\n",
       " 'ListFields',\n",
       " 'MOBILE',\n",
       " 'MergeFrom',\n",
       " 'MergeFromString',\n",
       " 'ParseFromString',\n",
       " 'PhoneNumber',\n",
       " 'PhoneType',\n",
       " 'RegisterExtension',\n",
       " 'SerializePartialToString',\n",
       " 'SerializeToString',\n",
       " 'SetInParent',\n",
       " 'UnknownFields',\n",
       " 'WORK',\n",
       " 'WhichOneof',\n",
       " '_CheckCalledFromGeneratedFile',\n",
       " '_SetListener',\n",
       " '__class__',\n",
       " '__deepcopy__',\n",
       " '__delattr__',\n",
       " '__dir__',\n",
       " '__doc__',\n",
       " '__eq__',\n",
       " '__format__',\n",
       " '__ge__',\n",
       " '__getattribute__',\n",
       " '__getstate__',\n",
       " '__gt__',\n",
       " '__hash__',\n",
       " '__init__',\n",
       " '__init_subclass__',\n",
       " '__le__',\n",
       " '__lt__',\n",
       " '__module__',\n",
       " '__ne__',\n",
       " '__new__',\n",
       " '__reduce__',\n",
       " '__reduce_ex__',\n",
       " '__repr__',\n",
       " '__setattr__',\n",
       " '__setstate__',\n",
       " '__sizeof__',\n",
       " '__slots__',\n",
       " '__str__',\n",
       " '__subclasshook__',\n",
       " '__unicode__',\n",
       " '_extensions_by_name',\n",
       " '_extensions_by_number',\n",
       " 'email',\n",
       " 'id',\n",
       " 'name',\n",
       " 'phones']"
      ]
     },
     "execution_count": 5,
     "metadata": {},
     "output_type": "execute_result"
    }
   ],
   "source": [
    "dir(person)"
   ]
  },
  {
   "cell_type": "markdown",
   "metadata": {},
   "source": [
    "Recall that `Person` has these fields:\n",
    "\n",
    "```proto\n",
    "message Person {\n",
    "  required string name = 1;\n",
    "  required int32 id = 2;\n",
    "  optional string email = 3;\n",
    "\n",
    "  ...\n",
    "\n",
    "  repeated PhoneNumber phones = 4;\n",
    "```"
   ]
  },
  {
   "cell_type": "markdown",
   "metadata": {},
   "source": [
    "#### Default values:"
   ]
  },
  {
   "cell_type": "code",
   "execution_count": 6,
   "metadata": {
    "ExecuteTime": {
     "end_time": "2019-12-30T02:45:30.588147Z",
     "start_time": "2019-12-30T02:45:30.584014Z"
    }
   },
   "outputs": [
    {
     "data": {
      "text/plain": [
       "False"
      ]
     },
     "execution_count": 6,
     "metadata": {},
     "output_type": "execute_result"
    }
   ],
   "source": [
    "person.IsInitialized()"
   ]
  },
  {
   "cell_type": "code",
   "execution_count": 7,
   "metadata": {
    "ExecuteTime": {
     "end_time": "2019-12-30T02:45:30.974939Z",
     "start_time": "2019-12-30T02:45:30.971641Z"
    },
    "scrolled": true
   },
   "outputs": [
    {
     "data": {
      "text/plain": [
       "''"
      ]
     },
     "execution_count": 7,
     "metadata": {},
     "output_type": "execute_result"
    }
   ],
   "source": [
    "person.name"
   ]
  },
  {
   "cell_type": "code",
   "execution_count": 8,
   "metadata": {
    "ExecuteTime": {
     "end_time": "2019-12-30T02:45:31.133502Z",
     "start_time": "2019-12-30T02:45:31.130330Z"
    }
   },
   "outputs": [
    {
     "data": {
      "text/plain": [
       "0"
      ]
     },
     "execution_count": 8,
     "metadata": {},
     "output_type": "execute_result"
    }
   ],
   "source": [
    "person.id"
   ]
  },
  {
   "cell_type": "code",
   "execution_count": 9,
   "metadata": {
    "ExecuteTime": {
     "end_time": "2019-12-30T02:45:31.307632Z",
     "start_time": "2019-12-30T02:45:31.304533Z"
    }
   },
   "outputs": [
    {
     "data": {
      "text/plain": [
       "''"
      ]
     },
     "execution_count": 9,
     "metadata": {},
     "output_type": "execute_result"
    }
   ],
   "source": [
    "person.email"
   ]
  },
  {
   "cell_type": "markdown",
   "metadata": {},
   "source": [
    "Assign values to person object's attributes:"
   ]
  },
  {
   "cell_type": "code",
   "execution_count": 10,
   "metadata": {
    "ExecuteTime": {
     "end_time": "2019-12-30T02:45:32.876425Z",
     "start_time": "2019-12-30T02:45:32.871842Z"
    }
   },
   "outputs": [
    {
     "data": {
      "text/plain": [
       "42"
      ]
     },
     "execution_count": 10,
     "metadata": {},
     "output_type": "execute_result"
    }
   ],
   "source": [
    "person.id = 42\n",
    "person.id"
   ]
  },
  {
   "cell_type": "code",
   "execution_count": 11,
   "metadata": {
    "ExecuteTime": {
     "end_time": "2019-12-30T02:45:34.863477Z",
     "start_time": "2019-12-30T02:45:34.857692Z"
    }
   },
   "outputs": [
    {
     "data": {
      "text/plain": [
       "'Harry Potter'"
      ]
     },
     "execution_count": 11,
     "metadata": {},
     "output_type": "execute_result"
    }
   ],
   "source": [
    "person.name = 'Harry Potter'\n",
    "person.name"
   ]
  },
  {
   "cell_type": "code",
   "execution_count": 12,
   "metadata": {
    "ExecuteTime": {
     "end_time": "2019-12-30T02:45:42.800436Z",
     "start_time": "2019-12-30T02:45:42.795706Z"
    }
   },
   "outputs": [
    {
     "data": {
      "text/plain": [
       "name: \"Harry Potter\"\n",
       "id: 42"
      ]
     },
     "execution_count": 12,
     "metadata": {},
     "output_type": "execute_result"
    }
   ],
   "source": [
    "person"
   ]
  },
  {
   "cell_type": "markdown",
   "metadata": {},
   "source": [
    "Once all `required` fields are assigned a value, the object is considered initialized."
   ]
  },
  {
   "cell_type": "code",
   "execution_count": 13,
   "metadata": {
    "ExecuteTime": {
     "end_time": "2019-12-30T02:45:49.501419Z",
     "start_time": "2019-12-30T02:45:49.495525Z"
    },
    "scrolled": true
   },
   "outputs": [
    {
     "data": {
      "text/plain": [
       "True"
      ]
     },
     "execution_count": 13,
     "metadata": {},
     "output_type": "execute_result"
    }
   ],
   "source": [
    "person.IsInitialized()"
   ]
  },
  {
   "cell_type": "code",
   "execution_count": 14,
   "metadata": {
    "ExecuteTime": {
     "end_time": "2019-12-30T02:45:56.556442Z",
     "start_time": "2019-12-30T02:45:56.552514Z"
    }
   },
   "outputs": [
    {
     "data": {
      "text/plain": [
       "'hpotter@hogwarts.edu.uk'"
      ]
     },
     "execution_count": 14,
     "metadata": {},
     "output_type": "execute_result"
    }
   ],
   "source": [
    "person.email = 'hpotter@hogwarts.edu.uk'\n",
    "person.email"
   ]
  },
  {
   "cell_type": "code",
   "execution_count": 15,
   "metadata": {
    "ExecuteTime": {
     "end_time": "2019-12-30T02:45:57.932312Z",
     "start_time": "2019-12-30T02:45:57.928808Z"
    }
   },
   "outputs": [
    {
     "data": {
      "text/plain": [
       "name: \"Harry Potter\"\n",
       "id: 42\n",
       "email: \"hpotter@hogwarts.edu.uk\""
      ]
     },
     "execution_count": 15,
     "metadata": {},
     "output_type": "execute_result"
    }
   ],
   "source": [
    "person"
   ]
  },
  {
   "cell_type": "markdown",
   "metadata": {},
   "source": [
    "Access non-existent attribute:"
   ]
  },
  {
   "cell_type": "code",
   "execution_count": 16,
   "metadata": {
    "ExecuteTime": {
     "end_time": "2019-12-30T02:46:01.623212Z",
     "start_time": "2019-12-30T02:46:01.561761Z"
    },
    "scrolled": true
   },
   "outputs": [
    {
     "ename": "AttributeError",
     "evalue": "xxx",
     "output_type": "error",
     "traceback": [
      "\u001b[0;31m---------------------------------------------------------------------------\u001b[0m",
      "\u001b[0;31mAttributeError\u001b[0m                            Traceback (most recent call last)",
      "\u001b[0;32m<ipython-input-16-724bf22f7a6e>\u001b[0m in \u001b[0;36m<module>\u001b[0;34m\u001b[0m\n\u001b[0;32m----> 1\u001b[0;31m \u001b[0mperson\u001b[0m\u001b[0;34m.\u001b[0m\u001b[0mxxx\u001b[0m\u001b[0;34m\u001b[0m\u001b[0;34m\u001b[0m\u001b[0m\n\u001b[0m",
      "\u001b[0;31mAttributeError\u001b[0m: xxx"
     ]
    }
   ],
   "source": [
    "person.xxx"
   ]
  },
  {
   "cell_type": "markdown",
   "metadata": {},
   "source": [
    "#### Type checking is built-in before an attribute can be updated:"
   ]
  },
  {
   "cell_type": "code",
   "execution_count": 17,
   "metadata": {
    "ExecuteTime": {
     "end_time": "2019-12-30T02:46:01.954236Z",
     "start_time": "2019-12-30T02:46:01.948053Z"
    },
    "scrolled": false
   },
   "outputs": [
    {
     "ename": "TypeError",
     "evalue": "'xxx' has type str, but expected one of: int, long",
     "output_type": "error",
     "traceback": [
      "\u001b[0;31m---------------------------------------------------------------------------\u001b[0m",
      "\u001b[0;31mTypeError\u001b[0m                                 Traceback (most recent call last)",
      "\u001b[0;32m<ipython-input-17-a3dfd3207035>\u001b[0m in \u001b[0;36m<module>\u001b[0;34m\u001b[0m\n\u001b[0;32m----> 1\u001b[0;31m \u001b[0mperson\u001b[0m\u001b[0;34m.\u001b[0m\u001b[0mid\u001b[0m \u001b[0;34m=\u001b[0m \u001b[0;34m'xxx'\u001b[0m\u001b[0;34m\u001b[0m\u001b[0;34m\u001b[0m\u001b[0m\n\u001b[0m",
      "\u001b[0;31mTypeError\u001b[0m: 'xxx' has type str, but expected one of: int, long"
     ]
    }
   ],
   "source": [
    "person.id = 'xxx'"
   ]
  },
  {
   "cell_type": "code",
   "execution_count": 18,
   "metadata": {
    "ExecuteTime": {
     "end_time": "2019-12-30T02:46:02.396132Z",
     "start_time": "2019-12-30T02:46:02.392547Z"
    },
    "scrolled": true
   },
   "outputs": [
    {
     "data": {
      "text/plain": [
       "name: \"Harry Potter\"\n",
       "id: 42\n",
       "email: \"hpotter@hogwarts.edu.uk\""
      ]
     },
     "execution_count": 18,
     "metadata": {},
     "output_type": "execute_result"
    }
   ],
   "source": [
    "person"
   ]
  },
  {
   "cell_type": "markdown",
   "metadata": {},
   "source": [
    "#### Add a `PhoneNumber` message object:\n",
    "\n",
    "from `.proto`:\n",
    "\n",
    "```proto\n",
    "repeated PhoneNumber phones = 4;\n",
    "```"
   ]
  },
  {
   "cell_type": "code",
   "execution_count": 19,
   "metadata": {
    "ExecuteTime": {
     "end_time": "2019-12-30T02:46:07.420808Z",
     "start_time": "2019-12-30T02:46:07.417006Z"
    }
   },
   "outputs": [
    {
     "data": {
      "text/plain": []
     },
     "execution_count": 19,
     "metadata": {},
     "output_type": "execute_result"
    }
   ],
   "source": [
    "person.phones.add()"
   ]
  },
  {
   "cell_type": "code",
   "execution_count": 20,
   "metadata": {
    "ExecuteTime": {
     "end_time": "2019-12-30T02:46:07.631540Z",
     "start_time": "2019-12-30T02:46:07.627851Z"
    },
    "scrolled": true
   },
   "outputs": [
    {
     "data": {
      "text/plain": [
       "name: \"Harry Potter\"\n",
       "id: 42\n",
       "email: \"hpotter@hogwarts.edu.uk\"\n",
       "phones {\n",
       "}"
      ]
     },
     "execution_count": 20,
     "metadata": {},
     "output_type": "execute_result"
    }
   ],
   "source": [
    "person"
   ]
  },
  {
   "cell_type": "code",
   "execution_count": 21,
   "metadata": {
    "ExecuteTime": {
     "end_time": "2019-12-30T02:46:07.852027Z",
     "start_time": "2019-12-30T02:46:07.847877Z"
    }
   },
   "outputs": [
    {
     "data": {
      "text/plain": []
     },
     "execution_count": 21,
     "metadata": {},
     "output_type": "execute_result"
    }
   ],
   "source": [
    "person.phones.add()"
   ]
  },
  {
   "cell_type": "code",
   "execution_count": 22,
   "metadata": {
    "ExecuteTime": {
     "end_time": "2019-12-30T02:46:08.093599Z",
     "start_time": "2019-12-30T02:46:08.088268Z"
    },
    "scrolled": true
   },
   "outputs": [
    {
     "data": {
      "text/plain": [
       "name: \"Harry Potter\"\n",
       "id: 42\n",
       "email: \"hpotter@hogwarts.edu.uk\"\n",
       "phones {\n",
       "}\n",
       "phones {\n",
       "}"
      ]
     },
     "execution_count": 22,
     "metadata": {},
     "output_type": "execute_result"
    }
   ],
   "source": [
    "person"
   ]
  },
  {
   "cell_type": "code",
   "execution_count": 23,
   "metadata": {
    "ExecuteTime": {
     "end_time": "2019-12-30T02:46:10.379852Z",
     "start_time": "2019-12-30T02:46:10.376495Z"
    }
   },
   "outputs": [
    {
     "data": {
      "text/plain": []
     },
     "execution_count": 23,
     "metadata": {},
     "output_type": "execute_result"
    }
   ],
   "source": [
    "person.phones.pop()"
   ]
  },
  {
   "cell_type": "code",
   "execution_count": 24,
   "metadata": {
    "ExecuteTime": {
     "end_time": "2019-12-30T02:46:10.557730Z",
     "start_time": "2019-12-30T02:46:10.554369Z"
    }
   },
   "outputs": [
    {
     "data": {
      "text/plain": [
       "[]"
      ]
     },
     "execution_count": 24,
     "metadata": {},
     "output_type": "execute_result"
    }
   ],
   "source": [
    "person.phones"
   ]
  },
  {
   "cell_type": "code",
   "execution_count": 25,
   "metadata": {
    "ExecuteTime": {
     "end_time": "2019-12-30T02:46:10.716319Z",
     "start_time": "2019-12-30T02:46:10.712573Z"
    }
   },
   "outputs": [
    {
     "data": {
      "text/plain": []
     },
     "execution_count": 25,
     "metadata": {},
     "output_type": "execute_result"
    }
   ],
   "source": [
    "person.phones.pop()"
   ]
  },
  {
   "cell_type": "code",
   "execution_count": 26,
   "metadata": {
    "ExecuteTime": {
     "end_time": "2019-12-30T02:46:10.894283Z",
     "start_time": "2019-12-30T02:46:10.889224Z"
    }
   },
   "outputs": [
    {
     "data": {
      "text/plain": [
       "name: \"Harry Potter\"\n",
       "id: 42\n",
       "email: \"hpotter@hogwarts.edu.uk\""
      ]
     },
     "execution_count": 26,
     "metadata": {},
     "output_type": "execute_result"
    }
   ],
   "source": [
    "person"
   ]
  },
  {
   "cell_type": "code",
   "execution_count": 27,
   "metadata": {
    "ExecuteTime": {
     "end_time": "2019-12-30T02:46:11.035648Z",
     "start_time": "2019-12-30T02:46:11.032997Z"
    }
   },
   "outputs": [],
   "source": [
    "phone_num = person.phones.add()"
   ]
  },
  {
   "cell_type": "code",
   "execution_count": 28,
   "metadata": {
    "ExecuteTime": {
     "end_time": "2019-12-30T02:46:11.201317Z",
     "start_time": "2019-12-30T02:46:11.197671Z"
    }
   },
   "outputs": [
    {
     "data": {
      "text/plain": [
       "name: \"Harry Potter\"\n",
       "id: 42\n",
       "email: \"hpotter@hogwarts.edu.uk\"\n",
       "phones {\n",
       "}"
      ]
     },
     "execution_count": 28,
     "metadata": {},
     "output_type": "execute_result"
    }
   ],
   "source": [
    "person"
   ]
  },
  {
   "cell_type": "code",
   "execution_count": 29,
   "metadata": {
    "ExecuteTime": {
     "end_time": "2019-12-30T02:46:13.564928Z",
     "start_time": "2019-12-30T02:46:13.561339Z"
    },
    "scrolled": true
   },
   "outputs": [
    {
     "data": {
      "text/plain": [
       "my_protobuf_pb2.PhoneNumber"
      ]
     },
     "execution_count": 29,
     "metadata": {},
     "output_type": "execute_result"
    }
   ],
   "source": [
    "type(phone_num)"
   ]
  },
  {
   "cell_type": "markdown",
   "metadata": {},
   "source": [
    "From `.proto`:\n",
    "\n",
    "```proto\n",
    "message PhoneNumber {\n",
    "required string number = 1;\n",
    "optional PhoneType type = 2 [default = HOME];\n",
    "}\n",
    "```"
   ]
  },
  {
   "cell_type": "code",
   "execution_count": 30,
   "metadata": {
    "ExecuteTime": {
     "end_time": "2019-12-30T02:46:15.227056Z",
     "start_time": "2019-12-30T02:46:15.224184Z"
    }
   },
   "outputs": [],
   "source": [
    "phone_num.number = \"(02)2222-3333\""
   ]
  },
  {
   "cell_type": "code",
   "execution_count": 31,
   "metadata": {
    "ExecuteTime": {
     "end_time": "2019-12-30T02:46:15.402851Z",
     "start_time": "2019-12-30T02:46:15.399725Z"
    },
    "scrolled": true
   },
   "outputs": [
    {
     "data": {
      "text/plain": [
       "number: \"(02)2222-3333\""
      ]
     },
     "execution_count": 31,
     "metadata": {},
     "output_type": "execute_result"
    }
   ],
   "source": [
    "phone_num"
   ]
  },
  {
   "cell_type": "code",
   "execution_count": 32,
   "metadata": {
    "ExecuteTime": {
     "end_time": "2019-12-30T02:46:15.598272Z",
     "start_time": "2019-12-30T02:46:15.594510Z"
    }
   },
   "outputs": [
    {
     "data": {
      "text/plain": [
       "[('MOBILE', 0), ('HOME', 1), ('WORK', 2)]"
      ]
     },
     "execution_count": 32,
     "metadata": {},
     "output_type": "execute_result"
    }
   ],
   "source": [
    "person.PhoneType.items()"
   ]
  },
  {
   "cell_type": "code",
   "execution_count": 33,
   "metadata": {
    "ExecuteTime": {
     "end_time": "2019-12-30T02:46:16.106882Z",
     "start_time": "2019-12-30T02:46:16.104114Z"
    }
   },
   "outputs": [],
   "source": [
    "phone_num.type = 0"
   ]
  },
  {
   "cell_type": "code",
   "execution_count": 34,
   "metadata": {
    "ExecuteTime": {
     "end_time": "2019-12-30T02:46:16.573129Z",
     "start_time": "2019-12-30T02:46:16.569460Z"
    }
   },
   "outputs": [
    {
     "data": {
      "text/plain": [
       "number: \"(02)2222-3333\"\n",
       "type: MOBILE"
      ]
     },
     "execution_count": 34,
     "metadata": {},
     "output_type": "execute_result"
    }
   ],
   "source": [
    "phone_num"
   ]
  },
  {
   "cell_type": "markdown",
   "metadata": {},
   "source": [
    "#### Create an `AddressBook` message object\n",
    "\n",
    "```proto\n",
    "message AddressBook {\n",
    "  repeated Person people = 1;\n",
    "}\n",
    "```"
   ]
  },
  {
   "cell_type": "code",
   "execution_count": 35,
   "metadata": {
    "ExecuteTime": {
     "end_time": "2019-12-30T02:46:50.828318Z",
     "start_time": "2019-12-30T02:46:50.826005Z"
    }
   },
   "outputs": [],
   "source": [
    "# create an AddressBook message\n",
    "addr_bk = my_protobuf_pb2.AddressBook()"
   ]
  },
  {
   "cell_type": "code",
   "execution_count": 36,
   "metadata": {
    "ExecuteTime": {
     "end_time": "2019-12-30T02:46:53.706035Z",
     "start_time": "2019-12-30T02:46:53.702411Z"
    }
   },
   "outputs": [
    {
     "data": {
      "text/plain": []
     },
     "execution_count": 36,
     "metadata": {},
     "output_type": "execute_result"
    }
   ],
   "source": [
    "addr_bk"
   ]
  },
  {
   "cell_type": "code",
   "execution_count": 37,
   "metadata": {
    "ExecuteTime": {
     "end_time": "2019-12-30T02:47:04.475623Z",
     "start_time": "2019-12-30T02:47:04.472010Z"
    }
   },
   "outputs": [
    {
     "data": {
      "text/plain": [
       "my_protobuf_pb2.AddressBook"
      ]
     },
     "execution_count": 37,
     "metadata": {},
     "output_type": "execute_result"
    }
   ],
   "source": [
    "type(addr_bk)"
   ]
  },
  {
   "cell_type": "code",
   "execution_count": 38,
   "metadata": {
    "ExecuteTime": {
     "end_time": "2019-12-30T02:47:06.026738Z",
     "start_time": "2019-12-30T02:47:06.022766Z"
    },
    "scrolled": true
   },
   "outputs": [
    {
     "data": {
      "text/plain": [
       "['ByteSize',\n",
       " 'Clear',\n",
       " 'ClearExtension',\n",
       " 'ClearField',\n",
       " 'CopyFrom',\n",
       " 'DESCRIPTOR',\n",
       " 'DiscardUnknownFields',\n",
       " 'Extensions',\n",
       " 'FindInitializationErrors',\n",
       " 'FromString',\n",
       " 'HasExtension',\n",
       " 'HasField',\n",
       " 'IsInitialized',\n",
       " 'ListFields',\n",
       " 'MergeFrom',\n",
       " 'MergeFromString',\n",
       " 'ParseFromString',\n",
       " 'RegisterExtension',\n",
       " 'SerializePartialToString',\n",
       " 'SerializeToString',\n",
       " 'SetInParent',\n",
       " 'UnknownFields',\n",
       " 'WhichOneof',\n",
       " '_CheckCalledFromGeneratedFile',\n",
       " '_SetListener',\n",
       " '__class__',\n",
       " '__deepcopy__',\n",
       " '__delattr__',\n",
       " '__dir__',\n",
       " '__doc__',\n",
       " '__eq__',\n",
       " '__format__',\n",
       " '__ge__',\n",
       " '__getattribute__',\n",
       " '__getstate__',\n",
       " '__gt__',\n",
       " '__hash__',\n",
       " '__init__',\n",
       " '__init_subclass__',\n",
       " '__le__',\n",
       " '__lt__',\n",
       " '__module__',\n",
       " '__ne__',\n",
       " '__new__',\n",
       " '__reduce__',\n",
       " '__reduce_ex__',\n",
       " '__repr__',\n",
       " '__setattr__',\n",
       " '__setstate__',\n",
       " '__sizeof__',\n",
       " '__slots__',\n",
       " '__str__',\n",
       " '__subclasshook__',\n",
       " '__unicode__',\n",
       " '_extensions_by_name',\n",
       " '_extensions_by_number',\n",
       " 'people']"
      ]
     },
     "execution_count": 38,
     "metadata": {},
     "output_type": "execute_result"
    }
   ],
   "source": [
    "dir(addr_bk)"
   ]
  },
  {
   "cell_type": "code",
   "execution_count": 39,
   "metadata": {
    "ExecuteTime": {
     "end_time": "2019-12-30T02:47:14.827489Z",
     "start_time": "2019-12-30T02:47:14.824029Z"
    }
   },
   "outputs": [
    {
     "data": {
      "text/plain": [
       "True"
      ]
     },
     "execution_count": 39,
     "metadata": {},
     "output_type": "execute_result"
    }
   ],
   "source": [
    "addr_bk.IsInitialized()"
   ]
  },
  {
   "cell_type": "code",
   "execution_count": 40,
   "metadata": {
    "ExecuteTime": {
     "end_time": "2019-12-30T02:47:42.987667Z",
     "start_time": "2019-12-30T02:47:42.984222Z"
    }
   },
   "outputs": [
    {
     "data": {
      "text/plain": [
       "[]"
      ]
     },
     "execution_count": 40,
     "metadata": {},
     "output_type": "execute_result"
    }
   ],
   "source": [
    "addr_bk.people"
   ]
  },
  {
   "cell_type": "code",
   "execution_count": 41,
   "metadata": {
    "ExecuteTime": {
     "end_time": "2019-12-30T02:50:17.117456Z",
     "start_time": "2019-12-30T02:50:17.111774Z"
    }
   },
   "outputs": [
    {
     "data": {
      "text/plain": [
       "google.protobuf.pyext._message.RepeatedCompositeContainer"
      ]
     },
     "execution_count": 41,
     "metadata": {},
     "output_type": "execute_result"
    }
   ],
   "source": [
    "type(addr_bk.people)"
   ]
  },
  {
   "cell_type": "code",
   "execution_count": 42,
   "metadata": {
    "ExecuteTime": {
     "end_time": "2019-12-30T02:47:52.539839Z",
     "start_time": "2019-12-30T02:47:52.535985Z"
    },
    "scrolled": true
   },
   "outputs": [
    {
     "data": {
      "text/plain": [
       "['MergeFrom',\n",
       " '__class__',\n",
       " '__deepcopy__',\n",
       " '__delattr__',\n",
       " '__delitem__',\n",
       " '__dir__',\n",
       " '__doc__',\n",
       " '__eq__',\n",
       " '__format__',\n",
       " '__ge__',\n",
       " '__getattribute__',\n",
       " '__getitem__',\n",
       " '__gt__',\n",
       " '__hash__',\n",
       " '__init__',\n",
       " '__init_subclass__',\n",
       " '__le__',\n",
       " '__len__',\n",
       " '__lt__',\n",
       " '__ne__',\n",
       " '__new__',\n",
       " '__reduce__',\n",
       " '__reduce_ex__',\n",
       " '__repr__',\n",
       " '__setattr__',\n",
       " '__setitem__',\n",
       " '__sizeof__',\n",
       " '__str__',\n",
       " '__subclasshook__',\n",
       " 'add',\n",
       " 'append',\n",
       " 'extend',\n",
       " 'insert',\n",
       " 'pop',\n",
       " 'remove',\n",
       " 'sort']"
      ]
     },
     "execution_count": 42,
     "metadata": {},
     "output_type": "execute_result"
    }
   ],
   "source": [
    "dir(addr_bk.people)"
   ]
  },
  {
   "cell_type": "markdown",
   "metadata": {},
   "source": [
    "#### Add `person` to an `AddressBook` message object\n",
    "\n",
    "`AddressBook` message has field `people`:\n",
    "\n",
    "```proto\n",
    "repeated Person people = 1;\n",
    "```"
   ]
  },
  {
   "cell_type": "code",
   "execution_count": 43,
   "metadata": {
    "ExecuteTime": {
     "end_time": "2019-12-30T02:50:17.117456Z",
     "start_time": "2019-12-30T02:50:17.111774Z"
    },
    "scrolled": true
   },
   "outputs": [
    {
     "ename": "TypeError",
     "evalue": "No positional arguments allowed",
     "output_type": "error",
     "traceback": [
      "\u001b[0;31m---------------------------------------------------------------------------\u001b[0m",
      "\u001b[0;31mTypeError\u001b[0m                                 Traceback (most recent call last)",
      "\u001b[0;32m<ipython-input-43-ce7f3cb09411>\u001b[0m in \u001b[0;36m<module>\u001b[0;34m\u001b[0m\n\u001b[0;32m----> 1\u001b[0;31m \u001b[0maddr_bk\u001b[0m\u001b[0;34m.\u001b[0m\u001b[0mpeople\u001b[0m\u001b[0;34m.\u001b[0m\u001b[0madd\u001b[0m\u001b[0;34m(\u001b[0m\u001b[0mperson\u001b[0m\u001b[0;34m)\u001b[0m\u001b[0;34m\u001b[0m\u001b[0;34m\u001b[0m\u001b[0m\n\u001b[0m",
      "\u001b[0;31mTypeError\u001b[0m: No positional arguments allowed"
     ]
    }
   ],
   "source": [
    "addr_bk.people.add(person)"
   ]
  },
  {
   "cell_type": "markdown",
   "metadata": {},
   "source": [
    "Turns out, `addr_bk.people.add()` doesn't take an argument. Instead, it **returns** a `person` message (object), and you're suppose to modify that object.\n",
    "\n",
    "So instead of creating a person, and adding it to an address book, you'd have to do it in reverse order:\n",
    "\n",
    "1. create an `AddressBook` message object\n",
    "1. call `AddressBook.people.add()` to create a `Person` message object and assign it to a variable, and *then* modify that variable.\n",
    "\n",
    "Google's tutorial on [writing a message](https://developers.google.com/protocol-buffers/docs/pythontutorial#writing-a-message) starts off with a function that modifies a `Person` object. But the meat of the process is actually at the bottom of the code window:\n",
    "\n",
    "```python\n",
    "# Create an AddressBook message object\n",
    "address_book = addressbook_pb2.AddressBook()\n",
    "\n",
    "# Read an existing address book from binary file.\n",
    "...\n",
    "f = open(\"my_addr_book_pb2\", \"rb\")\n",
    "address_book.ParseFromString(f.read())\n",
    "f.close()\n",
    "\n",
    "# Add an address\n",
    "PromptForAddress(address_book.people.add())\n",
    "\n",
    "# Write the updated address book to file\n",
    "f = open(\"my_addr_book_pb2\", \"wb\")\n",
    "f.write(address_book.SerializeToString())\n",
    "f.close()\n",
    "```\n",
    "\n",
    "So in essence:\n",
    "1. start by creating an `Addressbook` message object\n",
    "1. load an address book by calling `address_book.ParseFromString(file_object)`\n",
    "1. create a `Person` object by calling `address_book.people.add()` and modify that object directly with a function called `PromptForAddress(person_object)`.\n",
    "1. export the updated address book with `address_book.SerializeToString()`"
   ]
  },
  {
   "cell_type": "markdown",
   "metadata": {},
   "source": [
    "See [`protobuff-tutorial-end-to-end.ipynb`](./protobuff-tutorial-end-to-end.ipynb) for an end-to-end tutorial in the correct order."
   ]
  },
  {
   "cell_type": "code",
   "execution_count": null,
   "metadata": {},
   "outputs": [],
   "source": []
  }
 ],
 "metadata": {
  "kernelspec": {
   "display_name": "Python 3",
   "language": "python",
   "name": "python3"
  },
  "language_info": {
   "codemirror_mode": {
    "name": "ipython",
    "version": 3
   },
   "file_extension": ".py",
   "mimetype": "text/x-python",
   "name": "python",
   "nbconvert_exporter": "python",
   "pygments_lexer": "ipython3",
   "version": "3.7.5"
  }
 },
 "nbformat": 4,
 "nbformat_minor": 2
}
