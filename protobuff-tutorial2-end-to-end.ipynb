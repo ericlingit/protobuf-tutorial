{
 "cells": [
  {
   "cell_type": "markdown",
   "metadata": {},
   "source": [
    "This is an end-to-end tutorial mean as a continuation of [`protobuff-tutorial.ipynb`](./protobuff-tutorial.ipynb).\n",
    "\n",
    "Previously we erronously started with the `Person` message. Here, we'll start by creating an `AddressBook` message object.\n",
    "\n",
    "First, lets review our `.proto` file `my_protobuf.proto`:"
   ]
  },
  {
   "cell_type": "markdown",
   "metadata": {},
   "source": [
    "```proto\n",
    "syntax = \"proto2\";\n",
    "\n",
    "package tutorial;\n",
    "\n",
    "message Person {\n",
    "  required string name = 1;\n",
    "  required int32 id = 2;\n",
    "  optional string email = 3;\n",
    "  \n",
    "  enum PhoneType {\n",
    "    MOBILE = 0;\n",
    "    HOME = 1;\n",
    "    WORK = 2;\n",
    "  }\n",
    "  \n",
    "  message PhoneNumber {\n",
    "    required string number = 1;\n",
    "    optional PhoneType type = 2 [default = HOME];\n",
    "  }\n",
    "  \n",
    "  repeated PhoneNumber phones = 4;\n",
    "}\n",
    "\n",
    "message AddressBook {\n",
    "  repeated Person people = 1;\n",
    "}\n",
    "```"
   ]
  },
  {
   "cell_type": "markdown",
   "metadata": {},
   "source": [
    "---"
   ]
  },
  {
   "cell_type": "markdown",
   "metadata": {},
   "source": [
    "To create a protobuf binary that follows the above spec, you need to compile it with `protoc`. This process generates a python script that helps you read or export a protobuf binary.\n",
    "\n",
    "If you don't have `protoc` installed, you can follow the below instructions:\n",
    "1. Download the pre-compiled compiler from [here](https://github.com/protocolbuffers/protobuf/releases/). You're looking for a `.zip` file that looks like this: `protoc-3.11.2-linux-x86_64.zip`\n",
    "1. Extract it to a folder. It should have a `bin` folder that has just a single file inside: `protoc`\n",
    "1. Copy `protoc` to your PATH environment: `sudo cp protoc /usr/bin/local`\n",
    "1. Now you should be able to run `protoc` from your terminal. Check by running `protoc --version`. It should return a string like this: `libprotoc 3.11.2`\n",
    "1. Install protobuf python package from pip: `pip install protobuf`"
   ]
  },
  {
   "cell_type": "markdown",
   "metadata": {},
   "source": [
    "#### Compile `.proto` spec"
   ]
  },
  {
   "cell_type": "code",
   "execution_count": null,
   "metadata": {},
   "outputs": [],
   "source": [
    "!protoc ./my_protobuf.proto --python_out='.'"
   ]
  },
  {
   "cell_type": "markdown",
   "metadata": {},
   "source": [
    "The above should generate a `my_protobuf_pb2.py` script."
   ]
  },
  {
   "cell_type": "code",
   "execution_count": 1,
   "metadata": {
    "ExecuteTime": {
     "end_time": "2019-12-30T03:34:43.561190Z",
     "start_time": "2019-12-30T03:34:43.456930Z"
    }
   },
   "outputs": [],
   "source": [
    "import my_protobuf_pb2"
   ]
  },
  {
   "cell_type": "markdown",
   "metadata": {},
   "source": [
    "#### Create an `AddressBook` message object"
   ]
  },
  {
   "cell_type": "code",
   "execution_count": 2,
   "metadata": {
    "ExecuteTime": {
     "end_time": "2019-12-30T03:34:59.426706Z",
     "start_time": "2019-12-30T03:34:59.423964Z"
    }
   },
   "outputs": [],
   "source": [
    "addr_bk = my_protobuf_pb2.AddressBook()"
   ]
  },
  {
   "cell_type": "code",
   "execution_count": 3,
   "metadata": {
    "ExecuteTime": {
     "end_time": "2019-12-30T03:35:06.171325Z",
     "start_time": "2019-12-30T03:35:06.162893Z"
    }
   },
   "outputs": [
    {
     "data": {
      "text/plain": [
       "True"
      ]
     },
     "execution_count": 3,
     "metadata": {},
     "output_type": "execute_result"
    }
   ],
   "source": [
    "addr_bk.IsInitialized()"
   ]
  },
  {
   "cell_type": "markdown",
   "metadata": {},
   "source": [
    "`addr_bk.IsInitialized()` returns True because it only has a `repeated` field (and not a `required` field)."
   ]
  },
  {
   "cell_type": "markdown",
   "metadata": {},
   "source": [
    "#### Create a `Person` object"
   ]
  },
  {
   "cell_type": "code",
   "execution_count": 4,
   "metadata": {
    "ExecuteTime": {
     "end_time": "2019-12-30T03:36:12.208430Z",
     "start_time": "2019-12-30T03:36:12.205962Z"
    }
   },
   "outputs": [],
   "source": [
    "person = addr_bk.people.add()"
   ]
  },
  {
   "cell_type": "code",
   "execution_count": 5,
   "metadata": {
    "ExecuteTime": {
     "end_time": "2019-12-30T03:36:15.952985Z",
     "start_time": "2019-12-30T03:36:15.949294Z"
    }
   },
   "outputs": [
    {
     "data": {
      "text/plain": []
     },
     "execution_count": 5,
     "metadata": {},
     "output_type": "execute_result"
    }
   ],
   "source": [
    "person"
   ]
  },
  {
   "cell_type": "code",
   "execution_count": 8,
   "metadata": {
    "ExecuteTime": {
     "end_time": "2019-12-30T03:36:37.938904Z",
     "start_time": "2019-12-30T03:36:37.933640Z"
    }
   },
   "outputs": [
    {
     "data": {
      "text/plain": [
       "False"
      ]
     },
     "execution_count": 8,
     "metadata": {},
     "output_type": "execute_result"
    }
   ],
   "source": [
    "person.IsInitialized()"
   ]
  },
  {
   "cell_type": "markdown",
   "metadata": {},
   "source": [
    "`person.IsInitialized()` returns `False` because it has `required` fields that haven't been assigned a value yet.\n",
    "\n",
    "```proto\n",
    "required string name = 1;\n",
    "required int32 id = 2;\n",
    "optional string email = 3;\n",
    "```\n",
    "\n",
    "Note that the `= 1` and `= 2` are not value assignments! Refer to tutorial1 notebook for detail."
   ]
  },
  {
   "cell_type": "code",
   "execution_count": 6,
   "metadata": {
    "ExecuteTime": {
     "end_time": "2019-12-30T03:36:18.449953Z",
     "start_time": "2019-12-30T03:36:18.446275Z"
    }
   },
   "outputs": [
    {
     "data": {
      "text/plain": [
       "my_protobuf_pb2.Person"
      ]
     },
     "execution_count": 6,
     "metadata": {},
     "output_type": "execute_result"
    }
   ],
   "source": [
    "type(person)"
   ]
  },
  {
   "cell_type": "code",
   "execution_count": 7,
   "metadata": {
    "ExecuteTime": {
     "end_time": "2019-12-30T03:36:24.993483Z",
     "start_time": "2019-12-30T03:36:24.989094Z"
    },
    "scrolled": true
   },
   "outputs": [
    {
     "data": {
      "text/plain": [
       "['ByteSize',\n",
       " 'Clear',\n",
       " 'ClearExtension',\n",
       " 'ClearField',\n",
       " 'CopyFrom',\n",
       " 'DESCRIPTOR',\n",
       " 'DiscardUnknownFields',\n",
       " 'Extensions',\n",
       " 'FindInitializationErrors',\n",
       " 'FromString',\n",
       " 'HOME',\n",
       " 'HasExtension',\n",
       " 'HasField',\n",
       " 'IsInitialized',\n",
       " 'ListFields',\n",
       " 'MOBILE',\n",
       " 'MergeFrom',\n",
       " 'MergeFromString',\n",
       " 'ParseFromString',\n",
       " 'PhoneNumber',\n",
       " 'PhoneType',\n",
       " 'RegisterExtension',\n",
       " 'SerializePartialToString',\n",
       " 'SerializeToString',\n",
       " 'SetInParent',\n",
       " 'UnknownFields',\n",
       " 'WORK',\n",
       " 'WhichOneof',\n",
       " '_CheckCalledFromGeneratedFile',\n",
       " '_SetListener',\n",
       " '__class__',\n",
       " '__deepcopy__',\n",
       " '__delattr__',\n",
       " '__dir__',\n",
       " '__doc__',\n",
       " '__eq__',\n",
       " '__format__',\n",
       " '__ge__',\n",
       " '__getattribute__',\n",
       " '__getstate__',\n",
       " '__gt__',\n",
       " '__hash__',\n",
       " '__init__',\n",
       " '__init_subclass__',\n",
       " '__le__',\n",
       " '__lt__',\n",
       " '__module__',\n",
       " '__ne__',\n",
       " '__new__',\n",
       " '__reduce__',\n",
       " '__reduce_ex__',\n",
       " '__repr__',\n",
       " '__setattr__',\n",
       " '__setstate__',\n",
       " '__sizeof__',\n",
       " '__slots__',\n",
       " '__str__',\n",
       " '__subclasshook__',\n",
       " '__unicode__',\n",
       " '_extensions_by_name',\n",
       " '_extensions_by_number',\n",
       " 'email',\n",
       " 'id',\n",
       " 'name',\n",
       " 'phones']"
      ]
     },
     "execution_count": 7,
     "metadata": {},
     "output_type": "execute_result"
    }
   ],
   "source": [
    "dir(person)"
   ]
  },
  {
   "cell_type": "markdown",
   "metadata": {},
   "source": [
    "#### Default field values"
   ]
  },
  {
   "cell_type": "code",
   "execution_count": 10,
   "metadata": {
    "ExecuteTime": {
     "end_time": "2019-12-30T03:37:46.399453Z",
     "start_time": "2019-12-30T03:37:46.396203Z"
    }
   },
   "outputs": [
    {
     "data": {
      "text/plain": [
       "''"
      ]
     },
     "execution_count": 10,
     "metadata": {},
     "output_type": "execute_result"
    }
   ],
   "source": [
    "person.name"
   ]
  },
  {
   "cell_type": "code",
   "execution_count": 11,
   "metadata": {
    "ExecuteTime": {
     "end_time": "2019-12-30T03:37:47.984976Z",
     "start_time": "2019-12-30T03:37:47.979660Z"
    }
   },
   "outputs": [
    {
     "data": {
      "text/plain": [
       "0"
      ]
     },
     "execution_count": 11,
     "metadata": {},
     "output_type": "execute_result"
    }
   ],
   "source": [
    "person.id"
   ]
  },
  {
   "cell_type": "code",
   "execution_count": 12,
   "metadata": {
    "ExecuteTime": {
     "end_time": "2019-12-30T03:37:50.078784Z",
     "start_time": "2019-12-30T03:37:50.075593Z"
    }
   },
   "outputs": [
    {
     "data": {
      "text/plain": [
       "''"
      ]
     },
     "execution_count": 12,
     "metadata": {},
     "output_type": "execute_result"
    }
   ],
   "source": [
    "person.email"
   ]
  },
  {
   "cell_type": "markdown",
   "metadata": {},
   "source": [
    "#### Assign values to `person`'s fields"
   ]
  },
  {
   "cell_type": "code",
   "execution_count": 13,
   "metadata": {
    "ExecuteTime": {
     "end_time": "2019-12-30T03:50:12.611449Z",
     "start_time": "2019-12-30T03:50:12.609047Z"
    }
   },
   "outputs": [],
   "source": [
    "person.name = 'Harry Potter'"
   ]
  },
  {
   "cell_type": "code",
   "execution_count": 14,
   "metadata": {
    "ExecuteTime": {
     "end_time": "2019-12-30T03:50:15.603100Z",
     "start_time": "2019-12-30T03:50:15.600347Z"
    }
   },
   "outputs": [],
   "source": [
    "person.id = 42"
   ]
  },
  {
   "cell_type": "code",
   "execution_count": 15,
   "metadata": {
    "ExecuteTime": {
     "end_time": "2019-12-30T03:50:36.257543Z",
     "start_time": "2019-12-30T03:50:36.254706Z"
    }
   },
   "outputs": [],
   "source": [
    "person.email = 'hpotter@hogwarts.edu.uk'"
   ]
  },
  {
   "cell_type": "code",
   "execution_count": 17,
   "metadata": {
    "ExecuteTime": {
     "end_time": "2019-12-30T03:50:47.906556Z",
     "start_time": "2019-12-30T03:50:47.903135Z"
    }
   },
   "outputs": [
    {
     "data": {
      "text/plain": [
       "True"
      ]
     },
     "execution_count": 17,
     "metadata": {},
     "output_type": "execute_result"
    }
   ],
   "source": [
    "person.IsInitialized()"
   ]
  },
  {
   "cell_type": "code",
   "execution_count": 16,
   "metadata": {
    "ExecuteTime": {
     "end_time": "2019-12-30T03:50:38.529999Z",
     "start_time": "2019-12-30T03:50:38.526701Z"
    },
    "scrolled": true
   },
   "outputs": [
    {
     "data": {
      "text/plain": [
       "name: \"Harry Potter\"\n",
       "id: 42\n",
       "email: \"hpotter@hogwarts.edu.uk\""
      ]
     },
     "execution_count": 16,
     "metadata": {},
     "output_type": "execute_result"
    }
   ],
   "source": [
    "person"
   ]
  },
  {
   "cell_type": "markdown",
   "metadata": {},
   "source": [
    "Protobuf has built-in type checking for attribute assignment:"
   ]
  },
  {
   "cell_type": "code",
   "execution_count": 19,
   "metadata": {
    "ExecuteTime": {
     "end_time": "2019-12-30T03:54:36.227643Z",
     "start_time": "2019-12-30T03:54:36.221295Z"
    }
   },
   "outputs": [
    {
     "ename": "TypeError",
     "evalue": "'aaa' has type str, but expected one of: int, long",
     "output_type": "error",
     "traceback": [
      "\u001b[0;31m---------------------------------------------------------------------------\u001b[0m",
      "\u001b[0;31mTypeError\u001b[0m                                 Traceback (most recent call last)",
      "\u001b[0;32m<ipython-input-19-9727cb55bdb8>\u001b[0m in \u001b[0;36m<module>\u001b[0;34m\u001b[0m\n\u001b[0;32m----> 1\u001b[0;31m \u001b[0mperson\u001b[0m\u001b[0;34m.\u001b[0m\u001b[0mid\u001b[0m \u001b[0;34m=\u001b[0m \u001b[0;34m'aaa'\u001b[0m\u001b[0;34m\u001b[0m\u001b[0;34m\u001b[0m\u001b[0m\n\u001b[0m",
      "\u001b[0;31mTypeError\u001b[0m: 'aaa' has type str, but expected one of: int, long"
     ]
    }
   ],
   "source": [
    "person.id = 'aaa'"
   ]
  },
  {
   "cell_type": "markdown",
   "metadata": {},
   "source": [
    "#### Add a `PhoneNumber` message:\n",
    "\n",
    "`PhoneNumber` is part of `Person`:\n",
    "\n",
    "```proto\n",
    "message Person {\n",
    "...\n",
    "  message PhoneNumber {\n",
    "    required string number = 1;\n",
    "    optional PhoneType type = 2 [default = HOME];\n",
    "  }\n",
    "}\n",
    "```"
   ]
  },
  {
   "cell_type": "code",
   "execution_count": 20,
   "metadata": {
    "ExecuteTime": {
     "end_time": "2019-12-30T03:56:02.620540Z",
     "start_time": "2019-12-30T03:56:02.617951Z"
    }
   },
   "outputs": [],
   "source": [
    "phone_num = person.phones.add()"
   ]
  },
  {
   "cell_type": "code",
   "execution_count": 21,
   "metadata": {
    "ExecuteTime": {
     "end_time": "2019-12-30T03:56:22.137311Z",
     "start_time": "2019-12-30T03:56:22.133574Z"
    }
   },
   "outputs": [
    {
     "data": {
      "text/plain": [
       "name: \"Harry Potter\"\n",
       "id: 42\n",
       "email: \"hpotter@hogwarts.edu.uk\"\n",
       "phones {\n",
       "}"
      ]
     },
     "execution_count": 21,
     "metadata": {},
     "output_type": "execute_result"
    }
   ],
   "source": [
    "person"
   ]
  },
  {
   "cell_type": "markdown",
   "metadata": {},
   "source": [
    "If we screwed up here, we can call `person.Clear()` to reset the message to its default values."
   ]
  },
  {
   "cell_type": "code",
   "execution_count": 22,
   "metadata": {
    "ExecuteTime": {
     "end_time": "2019-12-30T03:57:06.187577Z",
     "start_time": "2019-12-30T03:57:06.184064Z"
    }
   },
   "outputs": [
    {
     "data": {
      "text/plain": []
     },
     "execution_count": 22,
     "metadata": {},
     "output_type": "execute_result"
    }
   ],
   "source": [
    "phone_num"
   ]
  },
  {
   "cell_type": "markdown",
   "metadata": {},
   "source": [
    "Add a phone number:"
   ]
  },
  {
   "cell_type": "code",
   "execution_count": 23,
   "metadata": {
    "ExecuteTime": {
     "end_time": "2019-12-30T03:57:22.957079Z",
     "start_time": "2019-12-30T03:57:22.952742Z"
    }
   },
   "outputs": [],
   "source": [
    "phone_num.number = '(02)2222-3333'"
   ]
  },
  {
   "cell_type": "code",
   "execution_count": 25,
   "metadata": {
    "ExecuteTime": {
     "end_time": "2019-12-30T03:57:32.777776Z",
     "start_time": "2019-12-30T03:57:32.774022Z"
    },
    "scrolled": true
   },
   "outputs": [
    {
     "data": {
      "text/plain": [
       "number: \"(02)2222-3333\""
      ]
     },
     "execution_count": 25,
     "metadata": {},
     "output_type": "execute_result"
    }
   ],
   "source": [
    "phone_num"
   ]
  },
  {
   "cell_type": "code",
   "execution_count": 24,
   "metadata": {
    "ExecuteTime": {
     "end_time": "2019-12-30T03:57:27.631227Z",
     "start_time": "2019-12-30T03:57:27.627818Z"
    },
    "scrolled": true
   },
   "outputs": [
    {
     "data": {
      "text/plain": [
       "name: \"Harry Potter\"\n",
       "id: 42\n",
       "email: \"hpotter@hogwarts.edu.uk\"\n",
       "phones {\n",
       "  number: \"(02)2222-3333\"\n",
       "}"
      ]
     },
     "execution_count": 24,
     "metadata": {},
     "output_type": "execute_result"
    }
   ],
   "source": [
    "person"
   ]
  },
  {
   "cell_type": "markdown",
   "metadata": {
    "ExecuteTime": {
     "end_time": "2019-12-30T03:57:52.699708Z",
     "start_time": "2019-12-30T03:57:52.696533Z"
    }
   },
   "source": [
    "Edit phone number type:\n",
    "\n",
    "Current type is `1` because\n",
    "\n",
    "```proto\n",
    "optional PhoneType type = 2 [default = HOME];\n",
    "```"
   ]
  },
  {
   "cell_type": "code",
   "execution_count": 27,
   "metadata": {
    "ExecuteTime": {
     "end_time": "2019-12-30T03:58:05.354533Z",
     "start_time": "2019-12-30T03:58:05.351201Z"
    }
   },
   "outputs": [
    {
     "data": {
      "text/plain": [
       "1"
      ]
     },
     "execution_count": 27,
     "metadata": {},
     "output_type": "execute_result"
    }
   ],
   "source": [
    "# current type (default = 1)\n",
    "phone_num.type"
   ]
  },
  {
   "cell_type": "code",
   "execution_count": 28,
   "metadata": {
    "ExecuteTime": {
     "end_time": "2019-12-30T03:59:21.147527Z",
     "start_time": "2019-12-30T03:59:21.143914Z"
    }
   },
   "outputs": [
    {
     "data": {
      "text/plain": [
       "[('MOBILE', 0), ('HOME', 1), ('WORK', 2)]"
      ]
     },
     "execution_count": 28,
     "metadata": {},
     "output_type": "execute_result"
    }
   ],
   "source": [
    "# what types are available?\n",
    "person.PhoneType.items()"
   ]
  },
  {
   "cell_type": "code",
   "execution_count": 29,
   "metadata": {
    "ExecuteTime": {
     "end_time": "2019-12-30T03:59:41.674734Z",
     "start_time": "2019-12-30T03:59:41.671982Z"
    }
   },
   "outputs": [],
   "source": [
    "# update phone type\n",
    "phone_num.type = 0"
   ]
  },
  {
   "cell_type": "code",
   "execution_count": 30,
   "metadata": {
    "ExecuteTime": {
     "end_time": "2019-12-30T03:59:44.055106Z",
     "start_time": "2019-12-30T03:59:44.051824Z"
    }
   },
   "outputs": [
    {
     "data": {
      "text/plain": [
       "number: \"(02)2222-3333\"\n",
       "type: MOBILE"
      ]
     },
     "execution_count": 30,
     "metadata": {},
     "output_type": "execute_result"
    }
   ],
   "source": [
    "phone_num"
   ]
  },
  {
   "cell_type": "code",
   "execution_count": 31,
   "metadata": {
    "ExecuteTime": {
     "end_time": "2019-12-30T03:59:48.118936Z",
     "start_time": "2019-12-30T03:59:48.115343Z"
    },
    "scrolled": true
   },
   "outputs": [
    {
     "data": {
      "text/plain": [
       "name: \"Harry Potter\"\n",
       "id: 42\n",
       "email: \"hpotter@hogwarts.edu.uk\"\n",
       "phones {\n",
       "  number: \"(02)2222-3333\"\n",
       "  type: MOBILE\n",
       "}"
      ]
     },
     "execution_count": 31,
     "metadata": {},
     "output_type": "execute_result"
    }
   ],
   "source": [
    "person"
   ]
  },
  {
   "cell_type": "markdown",
   "metadata": {},
   "source": [
    "#### Now that we're done filling the details of a `Person` message in an `AddressBook` message, let's check the result:"
   ]
  },
  {
   "cell_type": "code",
   "execution_count": 32,
   "metadata": {
    "ExecuteTime": {
     "end_time": "2019-12-30T04:01:49.861537Z",
     "start_time": "2019-12-30T04:01:49.857986Z"
    },
    "scrolled": true
   },
   "outputs": [
    {
     "data": {
      "text/plain": [
       "people {\n",
       "  name: \"Harry Potter\"\n",
       "  id: 42\n",
       "  email: \"hpotter@hogwarts.edu.uk\"\n",
       "  phones {\n",
       "    number: \"(02)2222-3333\"\n",
       "    type: MOBILE\n",
       "  }\n",
       "}"
      ]
     },
     "execution_count": 32,
     "metadata": {},
     "output_type": "execute_result"
    }
   ],
   "source": [
    "addr_bk"
   ]
  },
  {
   "cell_type": "code",
   "execution_count": 34,
   "metadata": {
    "ExecuteTime": {
     "end_time": "2019-12-30T04:02:44.022205Z",
     "start_time": "2019-12-30T04:02:44.018489Z"
    }
   },
   "outputs": [
    {
     "data": {
      "text/plain": [
       "[name: \"Harry Potter\"\n",
       "id: 42\n",
       "email: \"hpotter@hogwarts.edu.uk\"\n",
       "phones {\n",
       "  number: \"(02)2222-3333\"\n",
       "  type: MOBILE\n",
       "}\n",
       "]"
      ]
     },
     "execution_count": 34,
     "metadata": {},
     "output_type": "execute_result"
    }
   ],
   "source": [
    "addr_bk.people"
   ]
  },
  {
   "cell_type": "code",
   "execution_count": 35,
   "metadata": {
    "ExecuteTime": {
     "end_time": "2019-12-30T04:02:55.605062Z",
     "start_time": "2019-12-30T04:02:55.601550Z"
    }
   },
   "outputs": [
    {
     "data": {
      "text/plain": [
       "name: \"Harry Potter\"\n",
       "id: 42\n",
       "email: \"hpotter@hogwarts.edu.uk\"\n",
       "phones {\n",
       "  number: \"(02)2222-3333\"\n",
       "  type: MOBILE\n",
       "}"
      ]
     },
     "execution_count": 35,
     "metadata": {},
     "output_type": "execute_result"
    }
   ],
   "source": [
    "addr_bk.people[0]"
   ]
  },
  {
   "cell_type": "markdown",
   "metadata": {},
   "source": [
    "#### Export the address book"
   ]
  },
  {
   "cell_type": "code",
   "execution_count": 37,
   "metadata": {
    "ExecuteTime": {
     "end_time": "2019-12-30T04:03:55.252482Z",
     "start_time": "2019-12-30T04:03:55.249491Z"
    }
   },
   "outputs": [],
   "source": [
    "with open('my_addr_book_pb2', 'wb') as fh:\n",
    "    fh.write(addr_bk.SerializeToString())"
   ]
  },
  {
   "cell_type": "markdown",
   "metadata": {},
   "source": [
    "---"
   ]
  },
  {
   "cell_type": "markdown",
   "metadata": {},
   "source": [
    "#### Read the exported address book from file"
   ]
  },
  {
   "cell_type": "markdown",
   "metadata": {},
   "source": [
    "1. Get the `.proto` file and compile it with `protoc`:"
   ]
  },
  {
   "cell_type": "code",
   "execution_count": null,
   "metadata": {},
   "outputs": [],
   "source": [
    "!protoc ./my_protobuf.proto --python_out='.'"
   ]
  },
  {
   "cell_type": "markdown",
   "metadata": {},
   "source": [
    "The above should generate a `my_protobuf_pb2.py` script"
   ]
  },
  {
   "cell_type": "markdown",
   "metadata": {},
   "source": [
    "2. Import the compiled script to load the exported protobuf file:"
   ]
  },
  {
   "cell_type": "code",
   "execution_count": 1,
   "metadata": {
    "ExecuteTime": {
     "end_time": "2019-12-30T05:46:04.746502Z",
     "start_time": "2019-12-30T05:46:04.650742Z"
    }
   },
   "outputs": [],
   "source": [
    "# Import the protobuf script\n",
    "import my_protobuf_pb2\n",
    "\n",
    "# Create an AddressBook message object\n",
    "address_book = my_protobuf_pb2.AddressBook()\n",
    "\n",
    "# Read an existing address book from binary file.\n",
    "with open('my_addr_book_pb2', 'rb') as fh:\n",
    "    address_book.ParseFromString(fh.read())\n"
   ]
  },
  {
   "cell_type": "code",
   "execution_count": 2,
   "metadata": {
    "ExecuteTime": {
     "end_time": "2019-12-30T05:46:04.996692Z",
     "start_time": "2019-12-30T05:46:04.988010Z"
    }
   },
   "outputs": [
    {
     "data": {
      "text/plain": [
       "people {\n",
       "  name: \"Harry Potter\"\n",
       "  id: 42\n",
       "  email: \"hpotter@hogwarts.edu.uk\"\n",
       "  phones {\n",
       "    number: \"(02)2222-3333\"\n",
       "    type: MOBILE\n",
       "  }\n",
       "}"
      ]
     },
     "execution_count": 2,
     "metadata": {},
     "output_type": "execute_result"
    }
   ],
   "source": [
    "address_book"
   ]
  },
  {
   "cell_type": "code",
   "execution_count": null,
   "metadata": {},
   "outputs": [],
   "source": []
  }
 ],
 "metadata": {
  "kernelspec": {
   "display_name": "Python 3",
   "language": "python",
   "name": "python3"
  },
  "language_info": {
   "codemirror_mode": {
    "name": "ipython",
    "version": 3
   },
   "file_extension": ".py",
   "mimetype": "text/x-python",
   "name": "python",
   "nbconvert_exporter": "python",
   "pygments_lexer": "ipython3",
   "version": "3.7.5"
  }
 },
 "nbformat": 4,
 "nbformat_minor": 2
}
