{
 "cells": [
  {
   "cell_type": "markdown",
   "metadata": {},
   "source": [
    "## Update sp model with protobuf"
   ]
  },
  {
   "cell_type": "markdown",
   "metadata": {},
   "source": [
    "Find out if we can update SentencePiece's trained model `spm_test1k_uds.model` by editing it directly with protobuf.\n",
    "\n",
    "See https://github.com/google/sentencepiece/issues/121#issuecomment-400362011"
   ]
  },
  {
   "cell_type": "markdown",
   "metadata": {},
   "source": [
    "#### Compile `.proto` spec"
   ]
  },
  {
   "cell_type": "code",
   "execution_count": 1,
   "metadata": {
    "ExecuteTime": {
     "end_time": "2019-12-30T06:45:50.015347Z",
     "start_time": "2019-12-30T06:45:49.897062Z"
    }
   },
   "outputs": [],
   "source": [
    "!protoc ./sentencepiece_model.proto --python_out='.'"
   ]
  },
  {
   "cell_type": "markdown",
   "metadata": {},
   "source": [
    "The above should generate a `sentencepiece_model_pb2.py`:"
   ]
  },
  {
   "cell_type": "code",
   "execution_count": 2,
   "metadata": {
    "ExecuteTime": {
     "end_time": "2019-12-30T06:46:16.165350Z",
     "start_time": "2019-12-30T06:46:16.052120Z"
    }
   },
   "outputs": [
    {
     "name": "stdout",
     "output_type": "stream",
     "text": [
      "protobuf-read-spm.ipynb    sentencepiece_model_pb2.py\r\n",
      "sentencepiece_model.proto  spm_test1k_uds.model\r\n"
     ]
    }
   ],
   "source": [
    "!ls"
   ]
  },
  {
   "cell_type": "markdown",
   "metadata": {},
   "source": [
    "#### Import the generated script"
   ]
  },
  {
   "cell_type": "code",
   "execution_count": 3,
   "metadata": {
    "ExecuteTime": {
     "end_time": "2019-12-30T06:46:37.474961Z",
     "start_time": "2019-12-30T06:46:37.366223Z"
    }
   },
   "outputs": [],
   "source": [
    "import sentencepiece_model_pb2"
   ]
  },
  {
   "cell_type": "code",
   "execution_count": 4,
   "metadata": {
    "ExecuteTime": {
     "end_time": "2019-12-30T06:46:42.668421Z",
     "start_time": "2019-12-30T06:46:42.659755Z"
    },
    "scrolled": false
   },
   "outputs": [
    {
     "data": {
      "text/plain": [
       "['DESCRIPTOR',\n",
       " 'ModelProto',\n",
       " 'NormalizerSpec',\n",
       " 'SelfTestData',\n",
       " 'TrainerSpec',\n",
       " '_MODELPROTO',\n",
       " '_MODELPROTO_SENTENCEPIECE',\n",
       " '_MODELPROTO_SENTENCEPIECE_TYPE',\n",
       " '_NORMALIZERSPEC',\n",
       " '_SELFTESTDATA',\n",
       " '_SELFTESTDATA_SAMPLE',\n",
       " '_TRAINERSPEC',\n",
       " '_TRAINERSPEC_MODELTYPE',\n",
       " '__builtins__',\n",
       " '__cached__',\n",
       " '__doc__',\n",
       " '__file__',\n",
       " '__loader__',\n",
       " '__name__',\n",
       " '__package__',\n",
       " '__spec__',\n",
       " '_descriptor',\n",
       " '_message',\n",
       " '_reflection',\n",
       " '_sym_db',\n",
       " '_symbol_database']"
      ]
     },
     "execution_count": 4,
     "metadata": {},
     "output_type": "execute_result"
    }
   ],
   "source": [
    "dir(sentencepiece_model_pb2)"
   ]
  },
  {
   "cell_type": "markdown",
   "metadata": {},
   "source": [
    "#### Read the exported sp model from file"
   ]
  },
  {
   "cell_type": "code",
   "execution_count": 5,
   "metadata": {
    "ExecuteTime": {
     "end_time": "2019-12-30T06:49:21.365978Z",
     "start_time": "2019-12-30T06:49:21.361180Z"
    }
   },
   "outputs": [],
   "source": [
    "# Create a ModelProto message object\n",
    "model = sentencepiece_model_pb2.ModelProto()\n",
    "\n",
    "# Read from binary file\n",
    "with open('spm_test1k_uds.model', 'rb') as fh:\n",
    "    model.ParseFromString(fh.read())"
   ]
  },
  {
   "cell_type": "code",
   "execution_count": 8,
   "metadata": {
    "ExecuteTime": {
     "end_time": "2019-12-30T06:50:13.443754Z",
     "start_time": "2019-12-30T06:50:13.438859Z"
    },
    "scrolled": true
   },
   "outputs": [
    {
     "data": {
      "text/plain": [
       "['ByteSize',\n",
       " 'Clear',\n",
       " 'ClearExtension',\n",
       " 'ClearField',\n",
       " 'CopyFrom',\n",
       " 'DESCRIPTOR',\n",
       " 'DiscardUnknownFields',\n",
       " 'Extensions',\n",
       " 'FindInitializationErrors',\n",
       " 'FromString',\n",
       " 'HasExtension',\n",
       " 'HasField',\n",
       " 'IsInitialized',\n",
       " 'ListFields',\n",
       " 'MergeFrom',\n",
       " 'MergeFromString',\n",
       " 'ParseFromString',\n",
       " 'RegisterExtension',\n",
       " 'SentencePiece',\n",
       " 'SerializePartialToString',\n",
       " 'SerializeToString',\n",
       " 'SetInParent',\n",
       " 'UnknownFields',\n",
       " 'WhichOneof',\n",
       " '_CheckCalledFromGeneratedFile',\n",
       " '_SetListener',\n",
       " '__class__',\n",
       " '__deepcopy__',\n",
       " '__delattr__',\n",
       " '__dir__',\n",
       " '__doc__',\n",
       " '__eq__',\n",
       " '__format__',\n",
       " '__ge__',\n",
       " '__getattribute__',\n",
       " '__getstate__',\n",
       " '__gt__',\n",
       " '__hash__',\n",
       " '__init__',\n",
       " '__init_subclass__',\n",
       " '__le__',\n",
       " '__lt__',\n",
       " '__module__',\n",
       " '__ne__',\n",
       " '__new__',\n",
       " '__reduce__',\n",
       " '__reduce_ex__',\n",
       " '__repr__',\n",
       " '__setattr__',\n",
       " '__setstate__',\n",
       " '__sizeof__',\n",
       " '__slots__',\n",
       " '__str__',\n",
       " '__subclasshook__',\n",
       " '__unicode__',\n",
       " '_extensions_by_name',\n",
       " '_extensions_by_number',\n",
       " 'normalizer_spec',\n",
       " 'pieces',\n",
       " 'self_test_data',\n",
       " 'trainer_spec']"
      ]
     },
     "execution_count": 8,
     "metadata": {},
     "output_type": "execute_result"
    }
   ],
   "source": [
    "dir(model)"
   ]
  },
  {
   "cell_type": "markdown",
   "metadata": {},
   "source": [
    "We're interested in the `pieces` field. This contains the tokens:"
   ]
  },
  {
   "cell_type": "code",
   "execution_count": 12,
   "metadata": {
    "ExecuteTime": {
     "end_time": "2019-12-30T06:53:10.241052Z",
     "start_time": "2019-12-30T06:53:10.236819Z"
    },
    "scrolled": true
   },
   "outputs": [
    {
     "name": "stdout",
     "output_type": "stream",
     "text": [
      "piece: \"<unk>\"\n",
      "score: 0.0\n",
      "type: UNKNOWN\n",
      "\n",
      "piece: \"<s>\"\n",
      "score: 0.0\n",
      "type: CONTROL\n",
      "\n",
      "piece: \"</s>\"\n",
      "score: 0.0\n",
      "type: CONTROL\n",
      "\n",
      "piece: \"\\345\\274\\265\\350\\200\\201\\345\\270\\253\"\n",
      "score: 0.0\n",
      "type: USER_DEFINED\n",
      "\n",
      "piece: \"\\346\\225\\231\\350\\202\\262\\351\\203\\250\"\n",
      "score: 0.0\n",
      "type: USER_DEFINED\n",
      "\n",
      "piece: \"\\345\\244\\252\\345\\271\\263\\346\\264\\213\"\n",
      "score: 0.0\n",
      "type: USER_DEFINED\n",
      "\n",
      "piece: \"\\345\\210\\251\\345\\245\\207\\351\\246\\254\"\n",
      "score: 0.0\n",
      "type: USER_DEFINED\n",
      "\n",
      "piece: \"\\346\\237\\257\\347\\276\\205\\350\\216\\216\"\n",
      "score: 0.0\n",
      "type: USER_DEFINED\n",
      "\n",
      "piece: \"\\350\\214\\203\\346\\226\\257\\351\\253\\230\"\n",
      "score: 0.0\n",
      "type: USER_DEFINED\n",
      "\n",
      "piece: \"\\351\\242\\261\\351\\242\\250\"\n",
      "score: 0.0\n",
      "type: USER_DEFINED\n",
      "\n",
      "piece: \"\\345\\217\\260\\347\\201\\243\"\n",
      "score: 0.0\n",
      "type: USER_DEFINED\n",
      "\n",
      "piece: \"\\344\\270\\212\\345\\215\\210\"\n",
      "score: 0.0\n",
      "type: USER_DEFINED\n",
      "\n",
      "piece: \"\\344\\270\\255\\345\\244\\256\\346\\260\\243\\350\\261\\241\\345\\261\\200\"\n",
      "score: 0.0\n",
      "type: USER_DEFINED\n",
      "\n",
      "piece: \",\"\n",
      "score: -2.557969093322754\n",
      "\n",
      "piece: \"\\342\\226\\201\"\n",
      "score: -3.8373160362243652\n",
      "\n"
     ]
    }
   ],
   "source": [
    "for piece in model.pieces[:15]:\n",
    "    print(piece)"
   ]
  },
  {
   "cell_type": "markdown",
   "metadata": {},
   "source": [
    "We know from the `.vocab` file that our user-defined symbols include the following:\n",
    "\n",
    "```\n",
    "<unk>\t0\n",
    "<s>\t0\n",
    "</s>\t0\n",
    "張老師\t0\n",
    "教育部\t0\n",
    "太平洋\t0\n",
    "利奇馬\t0\n",
    "柯羅莎\t0\n",
    "范斯高\t0\n",
    "颱風\t0\n",
    "台灣\t0\n",
    "上午\t0\n",
    "中央氣象局\t0\n",
    ",\t-2.55797\n",
    "▁\t-3.83732\n",
    "...\n",
    "```"
   ]
  },
  {
   "cell_type": "code",
   "execution_count": 17,
   "metadata": {
    "ExecuteTime": {
     "end_time": "2019-12-30T06:54:50.830630Z",
     "start_time": "2019-12-30T06:54:50.826916Z"
    },
    "scrolled": false
   },
   "outputs": [
    {
     "data": {
      "text/plain": [
       "piece: \"\\345\\274\\265\\350\\200\\201\\345\\270\\253\"\n",
       "score: 0.0\n",
       "type: USER_DEFINED"
      ]
     },
     "execution_count": 17,
     "metadata": {},
     "output_type": "execute_result"
    }
   ],
   "source": [
    "model.pieces[3]"
   ]
  },
  {
   "cell_type": "code",
   "execution_count": 18,
   "metadata": {
    "ExecuteTime": {
     "end_time": "2019-12-30T06:54:54.350804Z",
     "start_time": "2019-12-30T06:54:54.347194Z"
    },
    "scrolled": true
   },
   "outputs": [
    {
     "data": {
      "text/plain": [
       "'張老師'"
      ]
     },
     "execution_count": 18,
     "metadata": {},
     "output_type": "execute_result"
    }
   ],
   "source": [
    "model.pieces[3].piece"
   ]
  },
  {
   "cell_type": "code",
   "execution_count": 19,
   "metadata": {
    "ExecuteTime": {
     "end_time": "2019-12-30T06:54:57.294540Z",
     "start_time": "2019-12-30T06:54:57.290963Z"
    }
   },
   "outputs": [
    {
     "data": {
      "text/plain": [
       "0.0"
      ]
     },
     "execution_count": 19,
     "metadata": {},
     "output_type": "execute_result"
    }
   ],
   "source": [
    "model.pieces[3].score"
   ]
  },
  {
   "cell_type": "code",
   "execution_count": 20,
   "metadata": {
    "ExecuteTime": {
     "end_time": "2019-12-30T06:55:00.032684Z",
     "start_time": "2019-12-30T06:55:00.027788Z"
    }
   },
   "outputs": [
    {
     "data": {
      "text/plain": [
       "4"
      ]
     },
     "execution_count": 20,
     "metadata": {},
     "output_type": "execute_result"
    }
   ],
   "source": [
    "model.pieces[3].type"
   ]
  },
  {
   "cell_type": "markdown",
   "metadata": {},
   "source": [
    "#### Add new user-defined pieces\n",
    "\n",
    "Add these terms: `您好 逼近`"
   ]
  },
  {
   "cell_type": "code",
   "execution_count": 21,
   "metadata": {
    "ExecuteTime": {
     "end_time": "2019-12-30T06:57:34.667410Z",
     "start_time": "2019-12-30T06:57:34.664911Z"
    }
   },
   "outputs": [],
   "source": [
    "new_piece = model.pieces.add()"
   ]
  },
  {
   "cell_type": "code",
   "execution_count": 22,
   "metadata": {
    "ExecuteTime": {
     "end_time": "2019-12-30T06:57:38.204018Z",
     "start_time": "2019-12-30T06:57:38.200631Z"
    }
   },
   "outputs": [
    {
     "data": {
      "text/plain": []
     },
     "execution_count": 22,
     "metadata": {},
     "output_type": "execute_result"
    }
   ],
   "source": [
    "new_piece"
   ]
  },
  {
   "cell_type": "markdown",
   "metadata": {},
   "source": [
    "From the `.proto` file, we know that certain fields can't be empty:\n",
    "\n",
    "```proto\n",
    "optional string piece = 1;   // piece must not be empty.\n",
    "optional float  score = 2;\n",
    "optional Type   type = 3 [ default =  NORMAL ];\n",
    "```\n",
    "\n",
    "and that we have to specify the piece type as USER_DEFINED:\n",
    "\n",
    "```proto\n",
    "enum Type {\n",
    "    NORMAL       = 1;  // normal symbol\n",
    "    UNKNOWN      = 2;  // unknown symbol. only <unk> for now.\n",
    "    CONTROL      = 3;  // control symbols. </s>, <s>, <2ja> etc.\n",
    "    USER_DEFINED = 4;  // user defined symbols.\n",
    "                       // Typical usage of USER_DEFINED symbol\n",
    "                       // is placeholder.\n",
    "    UNUSED       = 5;  // this piece is not used.\n",
    "};\n",
    "```"
   ]
  },
  {
   "cell_type": "code",
   "execution_count": 23,
   "metadata": {
    "ExecuteTime": {
     "end_time": "2019-12-30T07:03:19.214849Z",
     "start_time": "2019-12-30T07:03:19.211911Z"
    }
   },
   "outputs": [],
   "source": [
    "new_piece.piece = '您好'\n",
    "new_piece.score = 0\n",
    "new_piece.type = 4 # 4 means type = USER_DEFINED"
   ]
  },
  {
   "cell_type": "code",
   "execution_count": 24,
   "metadata": {
    "ExecuteTime": {
     "end_time": "2019-12-30T07:03:20.149694Z",
     "start_time": "2019-12-30T07:03:20.146030Z"
    },
    "scrolled": true
   },
   "outputs": [
    {
     "data": {
      "text/plain": [
       "True"
      ]
     },
     "execution_count": 24,
     "metadata": {},
     "output_type": "execute_result"
    }
   ],
   "source": [
    "new_piece.IsInitialized()"
   ]
  },
  {
   "cell_type": "code",
   "execution_count": 25,
   "metadata": {
    "ExecuteTime": {
     "end_time": "2019-12-30T07:03:56.935652Z",
     "start_time": "2019-12-30T07:03:56.931536Z"
    }
   },
   "outputs": [
    {
     "data": {
      "text/plain": [
       "True"
      ]
     },
     "execution_count": 25,
     "metadata": {},
     "output_type": "execute_result"
    }
   ],
   "source": [
    "new_piece2 = model.pieces.add()\n",
    "new_piece2.piece = '逼近'\n",
    "new_piece2.score = 0\n",
    "new_piece2.type = 4\n",
    "new_piece2.IsInitialized()"
   ]
  },
  {
   "cell_type": "markdown",
   "metadata": {},
   "source": [
    "#### Check result\n",
    "\n",
    "Verify if the model includes the 2 new pieces:"
   ]
  },
  {
   "cell_type": "code",
   "execution_count": 30,
   "metadata": {
    "ExecuteTime": {
     "end_time": "2019-12-30T07:06:31.766026Z",
     "start_time": "2019-12-30T07:06:31.761229Z"
    },
    "scrolled": false
   },
   "outputs": [
    {
     "name": "stdout",
     "output_type": "stream",
     "text": [
      "張老師\n",
      "教育部\n",
      "太平洋\n",
      "利奇馬\n",
      "柯羅莎\n",
      "范斯高\n",
      "颱風\n",
      "台灣\n",
      "上午\n",
      "中央氣象局\n",
      "您好\n",
      "逼近\n"
     ]
    }
   ],
   "source": [
    "for piece in model.pieces:\n",
    "    if piece.type == 4:\n",
    "        print(piece.piece)"
   ]
  },
  {
   "cell_type": "markdown",
   "metadata": {},
   "source": [
    "#### new pieces are appended to the end:"
   ]
  },
  {
   "cell_type": "code",
   "execution_count": 34,
   "metadata": {
    "ExecuteTime": {
     "end_time": "2019-12-30T07:07:40.258246Z",
     "start_time": "2019-12-30T07:07:40.254499Z"
    }
   },
   "outputs": [
    {
     "data": {
      "text/plain": [
       "'逼近'"
      ]
     },
     "execution_count": 34,
     "metadata": {},
     "output_type": "execute_result"
    }
   ],
   "source": [
    "model.pieces[-1].piece"
   ]
  },
  {
   "cell_type": "code",
   "execution_count": 35,
   "metadata": {
    "ExecuteTime": {
     "end_time": "2019-12-30T07:07:43.828147Z",
     "start_time": "2019-12-30T07:07:43.823241Z"
    },
    "scrolled": false
   },
   "outputs": [
    {
     "data": {
      "text/plain": [
       "'您好'"
      ]
     },
     "execution_count": 35,
     "metadata": {},
     "output_type": "execute_result"
    }
   ],
   "source": [
    "model.pieces[-2].piece"
   ]
  },
  {
   "cell_type": "markdown",
   "metadata": {},
   "source": [
    "#### Save the updated model"
   ]
  },
  {
   "cell_type": "code",
   "execution_count": 38,
   "metadata": {
    "ExecuteTime": {
     "end_time": "2019-12-30T07:09:17.234417Z",
     "start_time": "2019-12-30T07:09:17.230837Z"
    }
   },
   "outputs": [],
   "source": [
    "with open('spm_test1k_uds_updated.model', 'wb') as fh:\n",
    "    fh.write(model.SerializeToString())"
   ]
  },
  {
   "cell_type": "markdown",
   "metadata": {
    "ExecuteTime": {
     "end_time": "2019-12-30T07:09:29.603402Z",
     "start_time": "2019-12-30T07:09:29.599132Z"
    }
   },
   "source": [
    "---"
   ]
  },
  {
   "cell_type": "markdown",
   "metadata": {},
   "source": [
    "### See if updated model can segment added terms"
   ]
  },
  {
   "cell_type": "markdown",
   "metadata": {},
   "source": [
    "Old model:"
   ]
  },
  {
   "cell_type": "code",
   "execution_count": 40,
   "metadata": {
    "ExecuteTime": {
     "end_time": "2019-12-30T07:29:25.031985Z",
     "start_time": "2019-12-30T07:29:25.021799Z"
    }
   },
   "outputs": [],
   "source": [
    "import sentencepiece as spm\n",
    "sp = spm.SentencePieceProcessor()\n",
    "sp.Load('./spm_test1k_uds.model')\n",
    "\n",
    "text1 = '張老師您好，要給教育部的文件已經寄給您了'\n",
    "text2 = '太平洋上利奇馬、柯羅莎、范斯高「三颱共舞」！颱風利奇馬更逼近台灣'"
   ]
  },
  {
   "cell_type": "markdown",
   "metadata": {},
   "source": [
    "Look for '您好':"
   ]
  },
  {
   "cell_type": "code",
   "execution_count": 41,
   "metadata": {
    "ExecuteTime": {
     "end_time": "2019-12-30T07:29:33.171807Z",
     "start_time": "2019-12-30T07:29:33.165615Z"
    },
    "scrolled": true
   },
   "outputs": [
    {
     "data": {
      "text/plain": [
       "['▁',\n",
       " '張老師',\n",
       " '您',\n",
       " '好',\n",
       " ',',\n",
       " '要',\n",
       " '給',\n",
       " '教育部',\n",
       " '的',\n",
       " '文',\n",
       " '件',\n",
       " '已',\n",
       " '經',\n",
       " '寄給您',\n",
       " '了']"
      ]
     },
     "execution_count": 41,
     "metadata": {},
     "output_type": "execute_result"
    }
   ],
   "source": [
    "sp.EncodeAsPieces(text1)"
   ]
  },
  {
   "cell_type": "markdown",
   "metadata": {},
   "source": [
    "Look for '逼近':"
   ]
  },
  {
   "cell_type": "code",
   "execution_count": 42,
   "metadata": {
    "ExecuteTime": {
     "end_time": "2019-12-30T07:29:35.345564Z",
     "start_time": "2019-12-30T07:29:35.341830Z"
    }
   },
   "outputs": [
    {
     "data": {
      "text/plain": [
       "['▁',\n",
       " '太平洋',\n",
       " '上',\n",
       " '利奇馬',\n",
       " '、',\n",
       " '柯羅莎',\n",
       " '、',\n",
       " '范斯高',\n",
       " '「',\n",
       " '三',\n",
       " '颱',\n",
       " '共',\n",
       " '舞',\n",
       " '」',\n",
       " '!',\n",
       " '颱風',\n",
       " '利奇馬',\n",
       " '更',\n",
       " '逼',\n",
       " '近',\n",
       " '台灣']"
      ]
     },
     "execution_count": 42,
     "metadata": {},
     "output_type": "execute_result"
    }
   ],
   "source": [
    "sp.EncodeAsPieces(text2)"
   ]
  },
  {
   "cell_type": "code",
   "execution_count": null,
   "metadata": {},
   "outputs": [],
   "source": []
  },
  {
   "cell_type": "markdown",
   "metadata": {},
   "source": [
    "Updated model:"
   ]
  },
  {
   "cell_type": "code",
   "execution_count": 1,
   "metadata": {
    "ExecuteTime": {
     "end_time": "2019-12-30T08:52:25.172260Z",
     "start_time": "2019-12-30T08:52:25.164685Z"
    }
   },
   "outputs": [],
   "source": [
    "import sentencepiece as spm\n",
    "sp = spm.SentencePieceProcessor()\n",
    "sp.Load('./spm_test1k_uds_updated.model')\n",
    "\n",
    "text1 = '張老師您好，要給教育部的文件已經寄給您了'\n",
    "text2 = '太平洋上利奇馬、柯羅莎、范斯高「三颱共舞」！颱風利奇馬更逼近台灣'"
   ]
  },
  {
   "cell_type": "markdown",
   "metadata": {},
   "source": [
    "Look for '您好':"
   ]
  },
  {
   "cell_type": "code",
   "execution_count": 2,
   "metadata": {
    "ExecuteTime": {
     "end_time": "2019-12-30T08:52:26.385954Z",
     "start_time": "2019-12-30T08:52:26.376796Z"
    },
    "scrolled": true
   },
   "outputs": [
    {
     "data": {
      "text/plain": [
       "['▁', '張老師', '您好', ',', '要', '給', '教育部', '的', '文', '件', '已', '經', '寄給您', '了']"
      ]
     },
     "execution_count": 2,
     "metadata": {},
     "output_type": "execute_result"
    }
   ],
   "source": [
    "sp.EncodeAsPieces(text1)"
   ]
  },
  {
   "cell_type": "code",
   "execution_count": 3,
   "metadata": {
    "ExecuteTime": {
     "end_time": "2019-12-30T08:52:33.948445Z",
     "start_time": "2019-12-30T08:52:33.944551Z"
    },
    "scrolled": false
   },
   "outputs": [
    {
     "data": {
      "text/plain": [
       "[14, 3, 1000, 13, 93, 0, 4, 16, 994, 603, 802, 85, 0, 61]"
      ]
     },
     "execution_count": 3,
     "metadata": {},
     "output_type": "execute_result"
    }
   ],
   "source": [
    "sp.EncodeAsIds(text1)"
   ]
  },
  {
   "cell_type": "markdown",
   "metadata": {},
   "source": [
    "Look for '逼近':"
   ]
  },
  {
   "cell_type": "code",
   "execution_count": 45,
   "metadata": {
    "ExecuteTime": {
     "end_time": "2019-12-30T07:30:32.975991Z",
     "start_time": "2019-12-30T07:30:32.971887Z"
    },
    "scrolled": true
   },
   "outputs": [
    {
     "data": {
      "text/plain": [
       "['▁',\n",
       " '太平洋',\n",
       " '上',\n",
       " '利奇馬',\n",
       " '、',\n",
       " '柯羅莎',\n",
       " '、',\n",
       " '范斯高',\n",
       " '「',\n",
       " '三',\n",
       " '颱',\n",
       " '共',\n",
       " '舞',\n",
       " '」',\n",
       " '!',\n",
       " '颱風',\n",
       " '利奇馬',\n",
       " '更',\n",
       " '逼近',\n",
       " '台灣']"
      ]
     },
     "execution_count": 45,
     "metadata": {},
     "output_type": "execute_result"
    }
   ],
   "source": [
    "sp.EncodeAsPieces(text2)"
   ]
  },
  {
   "cell_type": "code",
   "execution_count": 4,
   "metadata": {
    "ExecuteTime": {
     "end_time": "2019-12-30T08:52:40.185005Z",
     "start_time": "2019-12-30T08:52:40.180911Z"
    }
   },
   "outputs": [
    {
     "data": {
      "text/plain": [
       "[14, 5, 41, 6, 28, 7, 28, 8, 31, 873, 0, 463, 0, 52, 387, 9, 6, 807, 1001, 10]"
      ]
     },
     "execution_count": 4,
     "metadata": {},
     "output_type": "execute_result"
    }
   ],
   "source": [
    "sp.EncodeAsIds(text2)"
   ]
  },
  {
   "cell_type": "markdown",
   "metadata": {},
   "source": [
    "### Conclusion\n",
    "\n",
    "Yes, SentencePiece models *can* be updated after the fact by appending new user-defined symbols via protobuf.\n",
    "\n",
    "User-defined symbols added after training have IDs starting from `1000`."
   ]
  },
  {
   "cell_type": "markdown",
   "metadata": {},
   "source": [
    "---"
   ]
  },
  {
   "cell_type": "markdown",
   "metadata": {},
   "source": [
    "### What if\n",
    "\n",
    "What if we try to add 2 identical tokens, or add a new token that already exists in the model?\n",
    "\n",
    "Only one way to find out!!"
   ]
  },
  {
   "cell_type": "markdown",
   "metadata": {},
   "source": [
    "#### Load proto model"
   ]
  },
  {
   "cell_type": "code",
   "execution_count": 1,
   "metadata": {
    "ExecuteTime": {
     "end_time": "2019-12-30T07:48:07.701902Z",
     "start_time": "2019-12-30T07:48:07.605486Z"
    }
   },
   "outputs": [],
   "source": [
    "import sentencepiece_model_pb2\n",
    "\n",
    "model = sentencepiece_model_pb2.ModelProto()\n",
    "\n",
    "with open('spm_test1k_uds.model', 'rb') as fh:\n",
    "    model.ParseFromString(fh.read())"
   ]
  },
  {
   "cell_type": "markdown",
   "metadata": {},
   "source": [
    "#### Add a redundant piece"
   ]
  },
  {
   "cell_type": "code",
   "execution_count": 5,
   "metadata": {
    "ExecuteTime": {
     "end_time": "2019-12-30T07:48:58.914179Z",
     "start_time": "2019-12-30T07:48:58.911470Z"
    }
   },
   "outputs": [],
   "source": [
    "new_piece = model.pieces.add()"
   ]
  },
  {
   "cell_type": "code",
   "execution_count": 10,
   "metadata": {
    "ExecuteTime": {
     "end_time": "2019-12-30T07:50:03.135638Z",
     "start_time": "2019-12-30T07:50:03.132875Z"
    }
   },
   "outputs": [],
   "source": [
    "# '太平洋' already exists\n",
    "new_piece.piece = '太平洋'"
   ]
  },
  {
   "cell_type": "code",
   "execution_count": 9,
   "metadata": {
    "ExecuteTime": {
     "end_time": "2019-12-30T07:49:35.647197Z",
     "start_time": "2019-12-30T07:49:35.644717Z"
    }
   },
   "outputs": [],
   "source": [
    "new_piece.type = 4"
   ]
  },
  {
   "cell_type": "code",
   "execution_count": 8,
   "metadata": {
    "ExecuteTime": {
     "end_time": "2019-12-30T07:49:26.448456Z",
     "start_time": "2019-12-30T07:49:26.443317Z"
    }
   },
   "outputs": [
    {
     "data": {
      "text/plain": [
       "0.0"
      ]
     },
     "execution_count": 8,
     "metadata": {},
     "output_type": "execute_result"
    }
   ],
   "source": [
    "new_piece.score"
   ]
  },
  {
   "cell_type": "code",
   "execution_count": 12,
   "metadata": {
    "ExecuteTime": {
     "end_time": "2019-12-30T07:50:24.271201Z",
     "start_time": "2019-12-30T07:50:24.267692Z"
    }
   },
   "outputs": [
    {
     "data": {
      "text/plain": [
       "'太平洋'"
      ]
     },
     "execution_count": 12,
     "metadata": {},
     "output_type": "execute_result"
    }
   ],
   "source": [
    "# verify the new piece has been appended\n",
    "model.pieces[-1].piece"
   ]
  },
  {
   "cell_type": "markdown",
   "metadata": {},
   "source": [
    "#### Save updated model"
   ]
  },
  {
   "cell_type": "code",
   "execution_count": 13,
   "metadata": {
    "ExecuteTime": {
     "end_time": "2019-12-30T07:52:09.552010Z",
     "start_time": "2019-12-30T07:52:09.547576Z"
    }
   },
   "outputs": [],
   "source": [
    "with open('spm_test1k_repeat.model', 'wb') as fh:\n",
    "    fh.write(model.SerializeToString())"
   ]
  },
  {
   "cell_type": "markdown",
   "metadata": {},
   "source": [
    "#### Load the model in sentencepiece"
   ]
  },
  {
   "cell_type": "code",
   "execution_count": 14,
   "metadata": {
    "ExecuteTime": {
     "end_time": "2019-12-30T07:52:45.781641Z",
     "start_time": "2019-12-30T07:52:45.771309Z"
    },
    "scrolled": true
   },
   "outputs": [
    {
     "ename": "RuntimeError",
     "evalue": "Internal: 太平洋 is already defined.",
     "output_type": "error",
     "traceback": [
      "\u001b[0;31m---------------------------------------------------------------------------\u001b[0m",
      "\u001b[0;31mRuntimeError\u001b[0m                              Traceback (most recent call last)",
      "\u001b[0;32m<ipython-input-14-cc7b600025a6>\u001b[0m in \u001b[0;36m<module>\u001b[0;34m\u001b[0m\n\u001b[1;32m      1\u001b[0m \u001b[0;32mimport\u001b[0m \u001b[0msentencepiece\u001b[0m \u001b[0;32mas\u001b[0m \u001b[0mspm\u001b[0m\u001b[0;34m\u001b[0m\u001b[0;34m\u001b[0m\u001b[0m\n\u001b[1;32m      2\u001b[0m \u001b[0msp\u001b[0m \u001b[0;34m=\u001b[0m \u001b[0mspm\u001b[0m\u001b[0;34m.\u001b[0m\u001b[0mSentencePieceProcessor\u001b[0m\u001b[0;34m(\u001b[0m\u001b[0;34m)\u001b[0m\u001b[0;34m\u001b[0m\u001b[0;34m\u001b[0m\u001b[0m\n\u001b[0;32m----> 3\u001b[0;31m \u001b[0msp\u001b[0m\u001b[0;34m.\u001b[0m\u001b[0mLoad\u001b[0m\u001b[0;34m(\u001b[0m\u001b[0;34m'./spm_repeat_token.model'\u001b[0m\u001b[0;34m)\u001b[0m\u001b[0;34m\u001b[0m\u001b[0;34m\u001b[0m\u001b[0m\n\u001b[0m\u001b[1;32m      4\u001b[0m \u001b[0;34m\u001b[0m\u001b[0m\n\u001b[1;32m      5\u001b[0m \u001b[0mtext1\u001b[0m \u001b[0;34m=\u001b[0m \u001b[0;34m'太平洋上利奇馬、柯羅莎、范斯高「三颱共舞」！颱風利奇馬更逼近台灣'\u001b[0m\u001b[0;34m\u001b[0m\u001b[0;34m\u001b[0m\u001b[0m\n",
      "\u001b[0;32m~/miniconda3/envs/bert_test/lib/python3.7/site-packages/sentencepiece.py\u001b[0m in \u001b[0;36mLoad\u001b[0;34m(self, filename)\u001b[0m\n\u001b[1;32m    116\u001b[0m \u001b[0;34m\u001b[0m\u001b[0m\n\u001b[1;32m    117\u001b[0m     \u001b[0;32mdef\u001b[0m \u001b[0mLoad\u001b[0m\u001b[0;34m(\u001b[0m\u001b[0mself\u001b[0m\u001b[0;34m,\u001b[0m \u001b[0mfilename\u001b[0m\u001b[0;34m)\u001b[0m\u001b[0;34m:\u001b[0m\u001b[0;34m\u001b[0m\u001b[0;34m\u001b[0m\u001b[0m\n\u001b[0;32m--> 118\u001b[0;31m         \u001b[0;32mreturn\u001b[0m \u001b[0m_sentencepiece\u001b[0m\u001b[0;34m.\u001b[0m\u001b[0mSentencePieceProcessor_Load\u001b[0m\u001b[0;34m(\u001b[0m\u001b[0mself\u001b[0m\u001b[0;34m,\u001b[0m \u001b[0mfilename\u001b[0m\u001b[0;34m)\u001b[0m\u001b[0;34m\u001b[0m\u001b[0;34m\u001b[0m\u001b[0m\n\u001b[0m\u001b[1;32m    119\u001b[0m \u001b[0;34m\u001b[0m\u001b[0m\n\u001b[1;32m    120\u001b[0m     \u001b[0;32mdef\u001b[0m \u001b[0mLoadOrDie\u001b[0m\u001b[0;34m(\u001b[0m\u001b[0mself\u001b[0m\u001b[0;34m,\u001b[0m \u001b[0mfilename\u001b[0m\u001b[0;34m)\u001b[0m\u001b[0;34m:\u001b[0m\u001b[0;34m\u001b[0m\u001b[0;34m\u001b[0m\u001b[0m\n",
      "\u001b[0;31mRuntimeError\u001b[0m: Internal: 太平洋 is already defined."
     ]
    }
   ],
   "source": [
    "import sentencepiece as spm\n",
    "sp = spm.SentencePieceProcessor()\n",
    "sp.Load('./spm_test1k_repeat.model')\n",
    "\n",
    "text1 = '太平洋上利奇馬、柯羅莎、范斯高「三颱共舞」！颱風利奇馬更逼近台灣'"
   ]
  },
  {
   "cell_type": "markdown",
   "metadata": {},
   "source": [
    "Ah-ha, looks like **a redundant piece results in a runtime error** when you try to import the sp model:\n",
    "\n",
    "`RuntimeError: Internal: 太平洋 is already defined.`"
   ]
  },
  {
   "cell_type": "code",
   "execution_count": null,
   "metadata": {},
   "outputs": [],
   "source": []
  },
  {
   "cell_type": "code",
   "execution_count": null,
   "metadata": {},
   "outputs": [],
   "source": []
  }
 ],
 "metadata": {
  "kernelspec": {
   "display_name": "Python 3",
   "language": "python",
   "name": "python3"
  },
  "language_info": {
   "codemirror_mode": {
    "name": "ipython",
    "version": 3
   },
   "file_extension": ".py",
   "mimetype": "text/x-python",
   "name": "python",
   "nbconvert_exporter": "python",
   "pygments_lexer": "ipython3",
   "version": "3.7.5"
  }
 },
 "nbformat": 4,
 "nbformat_minor": 2
}
